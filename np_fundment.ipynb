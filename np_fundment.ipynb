{
  "nbformat": 4,
  "nbformat_minor": 0,
  "metadata": {
    "colab": {
      "name": "np_fundment.ipynb",
      "provenance": [],
      "toc_visible": true,
      "authorship_tag": "ABX9TyNFXVkw5ZX8AtvnuJC2Nct4",
      "include_colab_link": true
    },
    "kernelspec": {
      "name": "python3",
      "display_name": "Python 3"
    },
    "language_info": {
      "name": "python"
    }
  },
  "cells": [
    {
      "cell_type": "markdown",
      "metadata": {
        "id": "view-in-github",
        "colab_type": "text"
      },
      "source": [
        "<a href=\"https://colab.research.google.com/github/ZHAOBenyun/Learning-Numpy_Pandas/blob/main/np_fundment.ipynb\" target=\"_parent\"><img src=\"https://colab.research.google.com/assets/colab-badge.svg\" alt=\"Open In Colab\"/></a>"
      ]
    },
    {
      "cell_type": "code",
      "metadata": {
        "id": "O2KPs93MDHKq"
      },
      "source": [
        "import numpy as np"
      ],
      "execution_count": 1,
      "outputs": []
    },
    {
      "cell_type": "code",
      "metadata": {
        "id": "u-qPDc2sDJH9"
      },
      "source": [
        "array = np.array([[1,2,3],\n",
        "          [2,3,4]])"
      ],
      "execution_count": 2,
      "outputs": []
    },
    {
      "cell_type": "code",
      "metadata": {
        "colab": {
          "base_uri": "https://localhost:8080/"
        },
        "id": "zEl-aPyMDcCw",
        "outputId": "a56eb5ad-c2a7-49df-d185-2d840b7fe3de"
      },
      "source": [
        "print(array)"
      ],
      "execution_count": 3,
      "outputs": [
        {
          "output_type": "stream",
          "name": "stdout",
          "text": [
            "[[1 2 3]\n",
            " [2 3 4]]\n"
          ]
        }
      ]
    },
    {
      "cell_type": "code",
      "metadata": {
        "colab": {
          "base_uri": "https://localhost:8080/"
        },
        "id": "tv6WMJD3DdGN",
        "outputId": "43f1f231-9e92-475f-fb7f-a283f26e507d"
      },
      "source": [
        "print('number of dim:', array.ndim)"
      ],
      "execution_count": 8,
      "outputs": [
        {
          "output_type": "stream",
          "name": "stdout",
          "text": [
            "number of dim: 2\n"
          ]
        }
      ]
    },
    {
      "cell_type": "code",
      "metadata": {
        "colab": {
          "base_uri": "https://localhost:8080/"
        },
        "id": "uep4iZjYDjJo",
        "outputId": "1833c117-9688-424a-8de7-611f9845905b"
      },
      "source": [
        "print('shape:', array.shape)"
      ],
      "execution_count": 10,
      "outputs": [
        {
          "output_type": "stream",
          "name": "stdout",
          "text": [
            "shape: (2, 3)\n"
          ]
        }
      ]
    },
    {
      "cell_type": "code",
      "metadata": {
        "colab": {
          "base_uri": "https://localhost:8080/"
        },
        "id": "HprQc7_4D8_w",
        "outputId": "8afe761f-77fc-405b-db49-6c16b24613e1"
      },
      "source": [
        "print('size:', array.size)"
      ],
      "execution_count": 11,
      "outputs": [
        {
          "output_type": "stream",
          "name": "stdout",
          "text": [
            "size: 6\n"
          ]
        }
      ]
    },
    {
      "cell_type": "code",
      "metadata": {
        "colab": {
          "base_uri": "https://localhost:8080/"
        },
        "id": "lVL_FyEHEB4q",
        "outputId": "54195a5d-6793-4312-8bca-3deb3719c086"
      },
      "source": [
        "a = np.array([2,3,4], dtype=np.int)  #default int64 since my system is 64 \n",
        "print(a.dtype)"
      ],
      "execution_count": 18,
      "outputs": [
        {
          "output_type": "stream",
          "name": "stdout",
          "text": [
            "int64\n"
          ]
        }
      ]
    },
    {
      "cell_type": "code",
      "metadata": {
        "colab": {
          "base_uri": "https://localhost:8080/"
        },
        "id": "q_cp8DtBFLWy",
        "outputId": "0b07cedd-efe7-4c8e-f7d2-bc0fc8291797"
      },
      "source": [
        "b = np.array([2,3,4], dtype=np.int32) \n",
        "print(b.dtype)"
      ],
      "execution_count": 19,
      "outputs": [
        {
          "output_type": "stream",
          "name": "stdout",
          "text": [
            "int32\n"
          ]
        }
      ]
    },
    {
      "cell_type": "code",
      "metadata": {
        "colab": {
          "base_uri": "https://localhost:8080/"
        },
        "id": "lLvdgfDxFwIL",
        "outputId": "86c2180e-83c2-45e4-a651-05b17f27e350"
      },
      "source": [
        "c = np.array([2,3,4], dtype=np.float)  #default float64 since my system is 64 \n",
        "print(c.dtype)"
      ],
      "execution_count": 20,
      "outputs": [
        {
          "output_type": "stream",
          "name": "stdout",
          "text": [
            "float64\n"
          ]
        }
      ]
    },
    {
      "cell_type": "code",
      "metadata": {
        "colab": {
          "base_uri": "https://localhost:8080/"
        },
        "id": "QpsGFDoDGjaA",
        "outputId": "12542d21-5db3-4213-e276-5b3298e38792"
      },
      "source": [
        "d = np.array([2,3,4], dtype=np.float16)  #number comes smaller, memory required comes smaller but data comes more inaccurate\n",
        "print(d.dtype)"
      ],
      "execution_count": 21,
      "outputs": [
        {
          "output_type": "stream",
          "name": "stdout",
          "text": [
            "float16\n"
          ]
        }
      ]
    },
    {
      "cell_type": "code",
      "metadata": {
        "colab": {
          "base_uri": "https://localhost:8080/"
        },
        "id": "gK6M6MlOG6_p",
        "outputId": "92e17099-247e-4eaf-f7de-d837af14e5d5"
      },
      "source": [
        "zero = np.zeros((3,4))\n",
        "print(zero.shape)"
      ],
      "execution_count": 23,
      "outputs": [
        {
          "output_type": "stream",
          "name": "stdout",
          "text": [
            "(3, 4)\n"
          ]
        }
      ]
    },
    {
      "cell_type": "code",
      "metadata": {
        "colab": {
          "base_uri": "https://localhost:8080/"
        },
        "id": "PxmLEZhBHqPH",
        "outputId": "892096a3-edf5-4a4c-c728-e6d65332c7e0"
      },
      "source": [
        "one = np.ones((3,4), dtype=np.float32)\n",
        "print(one.shape)"
      ],
      "execution_count": 25,
      "outputs": [
        {
          "output_type": "stream",
          "name": "stdout",
          "text": [
            "(3, 4)\n"
          ]
        }
      ]
    },
    {
      "cell_type": "code",
      "metadata": {
        "colab": {
          "base_uri": "https://localhost:8080/"
        },
        "id": "P2WMWNy6H7Aw",
        "outputId": "b90b038d-e775-4da1-a1e9-b3579c3ae75f"
      },
      "source": [
        "empty = np.empty((3,4))\n",
        "print(empty.shape)"
      ],
      "execution_count": 27,
      "outputs": [
        {
          "output_type": "stream",
          "name": "stdout",
          "text": [
            "(3, 4)\n"
          ]
        }
      ]
    },
    {
      "cell_type": "code",
      "metadata": {
        "colab": {
          "base_uri": "https://localhost:8080/"
        },
        "id": "wYQevKKUIEnp",
        "outputId": "271a83ba-cf1d-417f-9385-2178ac114d17"
      },
      "source": [
        "range = np.arange(10,20,2)  #beginner is included, ender is not\n",
        "print(range)"
      ],
      "execution_count": 29,
      "outputs": [
        {
          "output_type": "stream",
          "name": "stdout",
          "text": [
            "[10 12 14 16 18]\n"
          ]
        }
      ]
    },
    {
      "cell_type": "code",
      "metadata": {
        "colab": {
          "base_uri": "https://localhost:8080/"
        },
        "id": "9lelANW3IM04",
        "outputId": "9b225000-e445-4e04-93d7-b419c9a7057f"
      },
      "source": [
        "reshape1 = np.arange(12).reshape((3,4))\n",
        "print(reshape1)"
      ],
      "execution_count": 30,
      "outputs": [
        {
          "output_type": "stream",
          "name": "stdout",
          "text": [
            "[[ 0  1  2  3]\n",
            " [ 4  5  6  7]\n",
            " [ 8  9 10 11]]\n"
          ]
        }
      ]
    },
    {
      "cell_type": "code",
      "metadata": {
        "colab": {
          "base_uri": "https://localhost:8080/"
        },
        "id": "OYmTHxv8IkgH",
        "outputId": "2ffb8f7a-ca10-4fa1-82c5-741106af97a5"
      },
      "source": [
        "linspace = np.linspace(1,12,5)\n",
        "print(linspace)"
      ],
      "execution_count": 34,
      "outputs": [
        {
          "output_type": "stream",
          "name": "stdout",
          "text": [
            "[ 1.    3.75  6.5   9.25 12.  ]\n"
          ]
        }
      ]
    },
    {
      "cell_type": "code",
      "metadata": {
        "colab": {
          "base_uri": "https://localhost:8080/"
        },
        "id": "8P0OoONPI-14",
        "outputId": "5b4f9a28-f2df-4e30-e42e-8b6ea3d4a530"
      },
      "source": [
        "reshape2 = np.linspace(1,12,5).reshape((5,1))\n",
        "print(reshape2)"
      ],
      "execution_count": 35,
      "outputs": [
        {
          "output_type": "stream",
          "name": "stdout",
          "text": [
            "[[ 1.  ]\n",
            " [ 3.75]\n",
            " [ 6.5 ]\n",
            " [ 9.25]\n",
            " [12.  ]]\n"
          ]
        }
      ]
    },
    {
      "cell_type": "code",
      "metadata": {
        "id": "1UVtNpaxJJCX"
      },
      "source": [
        ""
      ],
      "execution_count": null,
      "outputs": []
    }
  ]
}
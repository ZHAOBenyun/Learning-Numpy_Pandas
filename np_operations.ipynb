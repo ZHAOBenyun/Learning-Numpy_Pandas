{
  "nbformat": 4,
  "nbformat_minor": 0,
  "metadata": {
    "colab": {
      "name": "np_operations",
      "provenance": [],
      "toc_visible": true,
      "authorship_tag": "ABX9TyMTffF1FmHBEzPAWEwV4YWV",
      "include_colab_link": true
    },
    "kernelspec": {
      "name": "python3",
      "display_name": "Python 3"
    },
    "language_info": {
      "name": "python"
    }
  },
  "cells": [
    {
      "cell_type": "markdown",
      "metadata": {
        "id": "view-in-github",
        "colab_type": "text"
      },
      "source": [
        "<a href=\"https://colab.research.google.com/github/ZHAOBenyun/Learning-Numpy_Pandas/blob/main/np_operations.ipynb\" target=\"_parent\"><img src=\"https://colab.research.google.com/assets/colab-badge.svg\" alt=\"Open In Colab\"/></a>"
      ]
    },
    {
      "cell_type": "code",
      "metadata": {
        "id": "fDbcaCIwNWFN"
      },
      "source": [
        "import numpy as np"
      ],
      "execution_count": null,
      "outputs": []
    },
    {
      "cell_type": "code",
      "metadata": {
        "colab": {
          "base_uri": "https://localhost:8080/"
        },
        "id": "gVrbwBu-Nxvh",
        "outputId": "058f7878-da17-4006-c93d-6d0d815ddfb8"
      },
      "source": [
        "a = np.array([2,3,4,5])\n",
        "b = np.arange(4)\n",
        "print(\"a = \", a)\n",
        "print(\"b = \", b)\n",
        "print(b<3)\n",
        "print(b==3)"
      ],
      "execution_count": null,
      "outputs": [
        {
          "output_type": "stream",
          "name": "stdout",
          "text": [
            "a =  [2 3 4 5]\n",
            "b =  [0 1 2 3]\n",
            "[ True  True  True False]\n",
            "[False False False  True]\n"
          ]
        }
      ]
    },
    {
      "cell_type": "code",
      "metadata": {
        "colab": {
          "base_uri": "https://localhost:8080/"
        },
        "id": "pptVAtMYOCc9",
        "outputId": "e1b6597d-aac6-498e-c265-3faa86ed6dde"
      },
      "source": [
        "print(b<3)"
      ],
      "execution_count": null,
      "outputs": [
        {
          "output_type": "stream",
          "name": "stdout",
          "text": [
            "[ True  True  True False]\n"
          ]
        }
      ]
    },
    {
      "cell_type": "code",
      "metadata": {
        "colab": {
          "base_uri": "https://localhost:8080/"
        },
        "id": "wJU8JbP5O_Y2",
        "outputId": "383627b8-dc23-4ddd-8e97-5e3350e43e67"
      },
      "source": [
        "a = a.reshape((2,2))\n",
        "b = b.reshape((2,2))\n",
        "print(a)\n",
        "print(b)"
      ],
      "execution_count": null,
      "outputs": [
        {
          "output_type": "stream",
          "name": "stdout",
          "text": [
            "[[2 3]\n",
            " [4 5]]\n",
            "[[0 1]\n",
            " [2 3]]\n"
          ]
        }
      ]
    },
    {
      "cell_type": "code",
      "metadata": {
        "colab": {
          "base_uri": "https://localhost:8080/"
        },
        "id": "yZCGIxl_Rl0h",
        "outputId": "ffc92494-98e2-4fc8-89b8-5198714df34a"
      },
      "source": [
        "c = a * b  #Multiply elements by elements\n",
        "c_dot = np.dot(a,b)  #Multiply elements by elements\n",
        "c_dot2 = a.dot(b)  #Multiply elements by elements\n",
        "print(c)\n",
        "print(c_dot)\n",
        "print(c_dot2)"
      ],
      "execution_count": null,
      "outputs": [
        {
          "output_type": "stream",
          "name": "stdout",
          "text": [
            "[[ 0  3]\n",
            " [ 8 15]]\n",
            "[[ 6 11]\n",
            " [10 19]]\n",
            "[[ 6 11]\n",
            " [10 19]]\n"
          ]
        }
      ]
    },
    {
      "cell_type": "code",
      "metadata": {
        "colab": {
          "base_uri": "https://localhost:8080/"
        },
        "id": "i36X3j_ncS5c",
        "outputId": "f4537c50-b049-4907-bd11-a92091a081cd"
      },
      "source": [
        "A = np.random.random((2,4))\n",
        "print(A)"
      ],
      "execution_count": null,
      "outputs": [
        {
          "output_type": "stream",
          "name": "stdout",
          "text": [
            "[[0.16442558 0.73338884 0.83520875 0.29019208]\n",
            " [0.56943248 0.12820776 0.34864519 0.87431994]]\n"
          ]
        }
      ]
    },
    {
      "cell_type": "code",
      "metadata": {
        "colab": {
          "base_uri": "https://localhost:8080/"
        },
        "id": "a7KA4J1Gd3iG",
        "outputId": "7dbcda61-7398-4856-b5e5-5e9995bd99d3"
      },
      "source": [
        "print(np.sum(A,axis=1))  #axis=1, row, horizontal\n",
        "print(np.min(A,axis=0))  #axis=0, column, vertical\n",
        "print(np.max(A))"
      ],
      "execution_count": null,
      "outputs": [
        {
          "output_type": "stream",
          "name": "stdout",
          "text": [
            "[2.02321525 1.92060537]\n",
            "0.12820776391751243\n",
            "0.8743199396584734\n"
          ]
        }
      ]
    },
    {
      "cell_type": "code",
      "metadata": {
        "colab": {
          "base_uri": "https://localhost:8080/"
        },
        "id": "VzRVCWZpd8KH",
        "outputId": "6d9ed89d-6394-4916-d1fd-9b035fe8bcf5"
      },
      "source": [
        "B = np.arange(2,14).reshape((3,4))\n",
        "print(B)\n",
        "print(np.argmin(B))\n",
        "print(np.argmax(B))"
      ],
      "execution_count": null,
      "outputs": [
        {
          "output_type": "stream",
          "name": "stdout",
          "text": [
            "[[ 2  3  4  5]\n",
            " [ 6  7  8  9]\n",
            " [10 11 12 13]]\n",
            "0\n",
            "11\n"
          ]
        }
      ]
    },
    {
      "cell_type": "code",
      "metadata": {
        "colab": {
          "base_uri": "https://localhost:8080/"
        },
        "id": "DtkXa_ZRggHQ",
        "outputId": "250a08aa-0f1c-4dde-889d-eb80e4117da6"
      },
      "source": [
        "print(np.average(B))"
      ],
      "execution_count": null,
      "outputs": [
        {
          "output_type": "stream",
          "name": "stdout",
          "text": [
            "7.5\n"
          ]
        }
      ]
    },
    {
      "cell_type": "code",
      "metadata": {
        "colab": {
          "base_uri": "https://localhost:8080/"
        },
        "id": "1hbI5FdHhDIG",
        "outputId": "1cab5d16-c3ba-4015-d7d0-d757adc7555c"
      },
      "source": [
        "print(np.cumsum(B))  #show the cumulatice sum\n",
        "print(np.diff(B))  #show the difference between each element"
      ],
      "execution_count": null,
      "outputs": [
        {
          "output_type": "stream",
          "name": "stdout",
          "text": [
            "[ 2  5  9 14 20 27 35 44 54 65 77 90]\n"
          ]
        }
      ]
    },
    {
      "cell_type": "code",
      "metadata": {
        "colab": {
          "base_uri": "https://localhost:8080/"
        },
        "id": "bO8US-c5hUOi",
        "outputId": "3fd36553-ba40-4e5b-ba20-aac661153d2a"
      },
      "source": [
        "print(np.nonzero(B))"
      ],
      "execution_count": null,
      "outputs": [
        {
          "output_type": "stream",
          "name": "stdout",
          "text": [
            "(array([0, 0, 0, 0, 1, 1, 1, 1, 2, 2, 2, 2]), array([0, 1, 2, 3, 0, 1, 2, 3, 0, 1, 2, 3]))\n"
          ]
        }
      ]
    },
    {
      "cell_type": "code",
      "metadata": {
        "colab": {
          "base_uri": "https://localhost:8080/"
        },
        "id": "ilalanLYiAom",
        "outputId": "45c8ccfe-d162-4cfa-e0b0-9b03c5db1ef7"
      },
      "source": [
        "C = np.zeros((3,4))\n",
        "print(C)\n",
        "print(np.nonzero(C))"
      ],
      "execution_count": null,
      "outputs": [
        {
          "output_type": "stream",
          "name": "stdout",
          "text": [
            "[[0. 0. 0. 0.]\n",
            " [0. 0. 0. 0.]\n",
            " [0. 0. 0. 0.]]\n",
            "(array([], dtype=int64), array([], dtype=int64))\n"
          ]
        }
      ]
    },
    {
      "cell_type": "code",
      "metadata": {
        "colab": {
          "base_uri": "https://localhost:8080/"
        },
        "id": "bJbzSMsQiGIe",
        "outputId": "5e8bc479-b5a8-4089-8ebd-3346bd652582"
      },
      "source": [
        "B_back = np.arange(14,2,-1).reshape((3,4))\n",
        "print(B_back)\n",
        "print(np.sort(B_back))"
      ],
      "execution_count": null,
      "outputs": [
        {
          "output_type": "stream",
          "name": "stdout",
          "text": [
            "[[14 13 12 11]\n",
            " [10  9  8  7]\n",
            " [ 6  5  4  3]]\n",
            "[[11 12 13 14]\n",
            " [ 7  8  9 10]\n",
            " [ 3  4  5  6]]\n"
          ]
        }
      ]
    },
    {
      "cell_type": "code",
      "metadata": {
        "colab": {
          "base_uri": "https://localhost:8080/"
        },
        "id": "6FjrLWFZiuEt",
        "outputId": "3f0c7636-b0f1-4c61-ba81-8bb69ad77cf6"
      },
      "source": [
        "print(np.transpose(B))\n",
        "print(B.T)"
      ],
      "execution_count": null,
      "outputs": [
        {
          "output_type": "stream",
          "name": "stdout",
          "text": [
            "[[ 2  6 10]\n",
            " [ 3  7 11]\n",
            " [ 4  8 12]\n",
            " [ 5  9 13]]\n",
            "[[ 2  6 10]\n",
            " [ 3  7 11]\n",
            " [ 4  8 12]\n",
            " [ 5  9 13]]\n"
          ]
        }
      ]
    },
    {
      "cell_type": "code",
      "metadata": {
        "id": "IPCDZB8XjMub",
        "colab": {
          "base_uri": "https://localhost:8080/"
        },
        "outputId": "c3d4caaa-85e0-45ef-d7a5-8755e00949b2"
      },
      "source": [
        "print(np.clip(B,5,9))  #clip: smaller than 5==5, larger than 9==9"
      ],
      "execution_count": 36,
      "outputs": [
        {
          "output_type": "stream",
          "name": "stdout",
          "text": [
            "[[5 5 5 5]\n",
            " [6 7 8 9]\n",
            " [9 9 9 9]]\n"
          ]
        }
      ]
    },
    {
      "cell_type": "code",
      "metadata": {
        "colab": {
          "base_uri": "https://localhost:8080/"
        },
        "id": "vbpJxcwYj_cc",
        "outputId": "890112af-7621-4b60-f79e-a930f7f549ba"
      },
      "source": [
        "print(B)\n",
        "print(np.mean(B, axis=0))"
      ],
      "execution_count": 38,
      "outputs": [
        {
          "output_type": "stream",
          "name": "stdout",
          "text": [
            "[[ 2  3  4  5]\n",
            " [ 6  7  8  9]\n",
            " [10 11 12 13]]\n",
            "[6. 7. 8. 9.]\n"
          ]
        }
      ]
    }
  ]
}
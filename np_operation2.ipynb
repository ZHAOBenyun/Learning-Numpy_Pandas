{
  "nbformat": 4,
  "nbformat_minor": 0,
  "metadata": {
    "colab": {
      "name": "np_operation2",
      "provenance": [],
      "toc_visible": true,
      "authorship_tag": "ABX9TyPfmK2uIXl7kfZoIh0b1RyE",
      "include_colab_link": true
    },
    "kernelspec": {
      "name": "python3",
      "display_name": "Python 3"
    },
    "language_info": {
      "name": "python"
    }
  },
  "cells": [
    {
      "cell_type": "markdown",
      "metadata": {
        "id": "view-in-github",
        "colab_type": "text"
      },
      "source": [
        "<a href=\"https://colab.research.google.com/github/ZHAOBenyun/Learning-Numpy_Pandas/blob/main/np_operation2.ipynb\" target=\"_parent\"><img src=\"https://colab.research.google.com/assets/colab-badge.svg\" alt=\"Open In Colab\"/></a>"
      ]
    },
    {
      "cell_type": "code",
      "metadata": {
        "id": "6kwvOzmYGXEM"
      },
      "source": [
        "import numpy as np"
      ],
      "execution_count": 26,
      "outputs": []
    },
    {
      "cell_type": "markdown",
      "metadata": {
        "id": "tSO5w37AM0IV"
      },
      "source": [
        "### ***Combination***"
      ]
    },
    {
      "cell_type": "code",
      "metadata": {
        "id": "vo_PBdMuGoYg"
      },
      "source": [
        "A = np.array([1,1,1])"
      ],
      "execution_count": 6,
      "outputs": []
    },
    {
      "cell_type": "code",
      "metadata": {
        "id": "0BrxxdSfHmyl"
      },
      "source": [
        "B = np.array([2,2,2])"
      ],
      "execution_count": 7,
      "outputs": []
    },
    {
      "cell_type": "code",
      "metadata": {
        "colab": {
          "base_uri": "https://localhost:8080/"
        },
        "id": "yfJz-tocGt2_",
        "outputId": "078b63bc-badd-46ac-8db4-7b2af1099336"
      },
      "source": [
        "C = np.vstack((A,B))  #vertical stack\n",
        "print(C)"
      ],
      "execution_count": 8,
      "outputs": [
        {
          "output_type": "stream",
          "name": "stdout",
          "text": [
            "[[1 1 1]\n",
            " [2 2 2]]\n"
          ]
        }
      ]
    },
    {
      "cell_type": "code",
      "metadata": {
        "colab": {
          "base_uri": "https://localhost:8080/"
        },
        "id": "wpd-jNXhHvnM",
        "outputId": "29453b30-f9bb-47f1-d450-7c9ee0e2fe54"
      },
      "source": [
        "print(A.shape, C.shape)"
      ],
      "execution_count": 11,
      "outputs": [
        {
          "output_type": "stream",
          "name": "stdout",
          "text": [
            "(3,) (2, 3)\n"
          ]
        }
      ]
    },
    {
      "cell_type": "code",
      "metadata": {
        "colab": {
          "base_uri": "https://localhost:8080/"
        },
        "id": "Sf7AHp2yGxwn",
        "outputId": "ef42f9ec-1f78-48d8-a53f-d3eed992e930"
      },
      "source": [
        "D = np.hstack((A,B))  #horizontal stack\n",
        "print(D)"
      ],
      "execution_count": 9,
      "outputs": [
        {
          "output_type": "stream",
          "name": "stdout",
          "text": [
            "[1 1 1 2 2 2]\n"
          ]
        }
      ]
    },
    {
      "cell_type": "code",
      "metadata": {
        "colab": {
          "base_uri": "https://localhost:8080/"
        },
        "id": "hmZ6RzLsHqiW",
        "outputId": "dcf5430e-109f-444d-cfc0-4c2607bf797e"
      },
      "source": [
        "print(A.shape, D.shape)"
      ],
      "execution_count": 10,
      "outputs": [
        {
          "output_type": "stream",
          "name": "stdout",
          "text": [
            "(3,) (6,)\n"
          ]
        }
      ]
    },
    {
      "cell_type": "code",
      "metadata": {
        "colab": {
          "base_uri": "https://localhost:8080/"
        },
        "id": "TaAGZSouHuMf",
        "outputId": "a1aa86da-5b88-42f7-bb19-c8e8ff9e7168"
      },
      "source": [
        "######### \n",
        "A_new = A[:,np.newaxis]\n",
        "print(A_new.shape)"
      ],
      "execution_count": 14,
      "outputs": [
        {
          "output_type": "stream",
          "name": "stdout",
          "text": [
            "(3, 1)\n"
          ]
        }
      ]
    },
    {
      "cell_type": "code",
      "metadata": {
        "colab": {
          "base_uri": "https://localhost:8080/"
        },
        "id": "_2mjI8R5JhG2",
        "outputId": "3666ac27-b7ec-4f13-ef5a-1f8fdd7a3d31"
      },
      "source": [
        "A_new1 = A[np.newaxis,:]\n",
        "print(A_new1.shape)"
      ],
      "execution_count": 15,
      "outputs": [
        {
          "output_type": "stream",
          "name": "stdout",
          "text": [
            "(1, 3)\n"
          ]
        }
      ]
    },
    {
      "cell_type": "code",
      "metadata": {
        "colab": {
          "base_uri": "https://localhost:8080/"
        },
        "id": "ww-eDD42MMu3",
        "outputId": "05ad98d3-94ad-45d9-a84a-38ec338a1d9d"
      },
      "source": [
        "B_new = B[:,np.newaxis]\n",
        "print(B_new.shape)"
      ],
      "execution_count": 18,
      "outputs": [
        {
          "output_type": "stream",
          "name": "stdout",
          "text": [
            "(3, 1)\n"
          ]
        }
      ]
    },
    {
      "cell_type": "code",
      "metadata": {
        "colab": {
          "base_uri": "https://localhost:8080/"
        },
        "id": "QhT6P_seMOcc",
        "outputId": "3813a8f5-17c3-444c-913f-00c82ccce2fd"
      },
      "source": [
        "B_new1 = B[np.newaxis,:]\n",
        "print(B_new1.shape)"
      ],
      "execution_count": 19,
      "outputs": [
        {
          "output_type": "stream",
          "name": "stdout",
          "text": [
            "(1, 3)\n"
          ]
        }
      ]
    },
    {
      "cell_type": "code",
      "metadata": {
        "colab": {
          "base_uri": "https://localhost:8080/"
        },
        "id": "8j1PPRwaJjU5",
        "outputId": "831b9587-417b-40b2-b807-768e80e6978b"
      },
      "source": [
        "C0 = np.concatenate((A_new,B_new,B_new,A_new), axis=1)\n",
        "C1 = np.concatenate((A_new,B_new,B_new,A_new), axis=0)\n",
        "print(C0)\n",
        "print(C1)"
      ],
      "execution_count": 24,
      "outputs": [
        {
          "output_type": "stream",
          "name": "stdout",
          "text": [
            "[[1 2 2 1]\n",
            " [1 2 2 1]\n",
            " [1 2 2 1]]\n",
            "[[1]\n",
            " [1]\n",
            " [1]\n",
            " [2]\n",
            " [2]\n",
            " [2]\n",
            " [2]\n",
            " [2]\n",
            " [2]\n",
            " [1]\n",
            " [1]\n",
            " [1]]\n"
          ]
        }
      ]
    },
    {
      "cell_type": "markdown",
      "metadata": {
        "id": "2fIIQdMJM_Qa"
      },
      "source": [
        "### ***Segmentation***"
      ]
    },
    {
      "cell_type": "code",
      "metadata": {
        "colab": {
          "base_uri": "https://localhost:8080/"
        },
        "id": "i92pWEjKNDE5",
        "outputId": "82847f11-42e8-4fb8-af09-d763fff1b29a"
      },
      "source": [
        "A = np.arange(12).reshape((3,4))\n",
        "print(A)"
      ],
      "execution_count": 33,
      "outputs": [
        {
          "output_type": "stream",
          "name": "stdout",
          "text": [
            "[[ 0  1  2  3]\n",
            " [ 4  5  6  7]\n",
            " [ 8  9 10 11]]\n"
          ]
        }
      ]
    },
    {
      "cell_type": "code",
      "metadata": {
        "colab": {
          "base_uri": "https://localhost:8080/"
        },
        "id": "SE7DtMsVNTpz",
        "outputId": "c63212b0-1bac-485e-ea28-dcd55e52e87d"
      },
      "source": [
        "print(np.split(A,2, axis=1))  #segment into 2 identical block"
      ],
      "execution_count": 35,
      "outputs": [
        {
          "output_type": "stream",
          "name": "stdout",
          "text": [
            "[array([[0, 1],\n",
            "       [4, 5],\n",
            "       [8, 9]]), array([[ 2,  3],\n",
            "       [ 6,  7],\n",
            "       [10, 11]])]\n"
          ]
        }
      ]
    },
    {
      "cell_type": "code",
      "metadata": {
        "colab": {
          "base_uri": "https://localhost:8080/"
        },
        "id": "AI86opxENq1x",
        "outputId": "9841739a-a3c1-4628-ca75-dd3b485bfdb0"
      },
      "source": [
        "print(np.split(A,3, axis=0))  #segment into 3 identical block"
      ],
      "execution_count": 39,
      "outputs": [
        {
          "output_type": "stream",
          "name": "stdout",
          "text": [
            "[array([[0, 1, 2, 3]]), array([[4, 5, 6, 7]]), array([[ 8,  9, 10, 11]])]\n"
          ]
        }
      ]
    },
    {
      "cell_type": "code",
      "metadata": {
        "colab": {
          "base_uri": "https://localhost:8080/"
        },
        "id": "I6IDfBHQOInP",
        "outputId": "e2f8e7c8-b293-4580-af76-c6724b2bf005"
      },
      "source": [
        "# print(np.split(A,3, axis=1))  will come error due to not identical block\n",
        "print(np.array_split(A,3, axis=1))  #segement into 3 different block"
      ],
      "execution_count": 40,
      "outputs": [
        {
          "output_type": "stream",
          "name": "stdout",
          "text": [
            "[array([[0, 1],\n",
            "       [4, 5],\n",
            "       [8, 9]]), array([[ 2],\n",
            "       [ 6],\n",
            "       [10]]), array([[ 3],\n",
            "       [ 7],\n",
            "       [11]])]\n"
          ]
        }
      ]
    },
    {
      "cell_type": "code",
      "metadata": {
        "colab": {
          "base_uri": "https://localhost:8080/"
        },
        "id": "EIY3_MJvOqj6",
        "outputId": "05029dea-abde-41f1-9040-141013976e8b"
      },
      "source": [
        "print(np.vsplit(A,3))"
      ],
      "execution_count": 48,
      "outputs": [
        {
          "output_type": "stream",
          "name": "stdout",
          "text": [
            "[array([[0, 1, 2, 3]]), array([[4, 5, 6, 7]]), array([[ 8,  9, 10, 11]])]\n"
          ]
        }
      ]
    },
    {
      "cell_type": "code",
      "metadata": {
        "colab": {
          "base_uri": "https://localhost:8080/"
        },
        "id": "4kGiRHr2PE0C",
        "outputId": "a818928e-269d-4c29-9360-4f10264fdc6e"
      },
      "source": [
        "print(np.hsplit(A,2))"
      ],
      "execution_count": 49,
      "outputs": [
        {
          "output_type": "stream",
          "name": "stdout",
          "text": [
            "[array([[0, 1],\n",
            "       [4, 5],\n",
            "       [8, 9]]), array([[ 2,  3],\n",
            "       [ 6,  7],\n",
            "       [10, 11]])]\n"
          ]
        }
      ]
    },
    {
      "cell_type": "markdown",
      "metadata": {
        "id": "0XZWncFWPYQ5"
      },
      "source": [
        "### ***Copy***"
      ]
    },
    {
      "cell_type": "code",
      "metadata": {
        "id": "RejX9S_5Pdeh"
      },
      "source": [
        "a = np.arange(4)"
      ],
      "execution_count": 50,
      "outputs": []
    },
    {
      "cell_type": "code",
      "metadata": {
        "id": "X88qPvE0Plti"
      },
      "source": [
        "b = a  #normal copy\n",
        "c = a\n",
        "d = b"
      ],
      "execution_count": 51,
      "outputs": []
    },
    {
      "cell_type": "code",
      "metadata": {
        "colab": {
          "base_uri": "https://localhost:8080/"
        },
        "id": "achmETK8P2iv",
        "outputId": "55fd2afd-dc9a-4eb0-f9ae-a89ae6a074ac"
      },
      "source": [
        "a[0] = 11\n",
        "print(a)"
      ],
      "execution_count": 52,
      "outputs": [
        {
          "output_type": "stream",
          "name": "stdout",
          "text": [
            "[11  1  2  3]\n"
          ]
        }
      ]
    },
    {
      "cell_type": "code",
      "metadata": {
        "colab": {
          "base_uri": "https://localhost:8080/"
        },
        "id": "FIxk5MvAP5lI",
        "outputId": "35f121d3-2208-46c7-8ccb-4e25a03702ef"
      },
      "source": [
        "b is a"
      ],
      "execution_count": 55,
      "outputs": [
        {
          "output_type": "execute_result",
          "data": {
            "text/plain": [
              "True"
            ]
          },
          "metadata": {},
          "execution_count": 55
        }
      ]
    },
    {
      "cell_type": "code",
      "metadata": {
        "colab": {
          "base_uri": "https://localhost:8080/"
        },
        "id": "u9GxieE0QA9R",
        "outputId": "2e83efc1-0839-4ba7-9dc0-817482250b80"
      },
      "source": [
        "print(b)"
      ],
      "execution_count": 56,
      "outputs": [
        {
          "output_type": "stream",
          "name": "stdout",
          "text": [
            "[11  1  2  3]\n"
          ]
        }
      ]
    },
    {
      "cell_type": "code",
      "metadata": {
        "id": "_eB71O0HQWg0"
      },
      "source": [
        "d[1:3] = [33,22]"
      ],
      "execution_count": 58,
      "outputs": []
    },
    {
      "cell_type": "code",
      "metadata": {
        "colab": {
          "base_uri": "https://localhost:8080/"
        },
        "id": "dv-4aZeOP6Um",
        "outputId": "404f6b07-129d-4e0e-809c-5074bbfb60d1"
      },
      "source": [
        "d is a"
      ],
      "execution_count": 59,
      "outputs": [
        {
          "output_type": "execute_result",
          "data": {
            "text/plain": [
              "True"
            ]
          },
          "metadata": {},
          "execution_count": 59
        }
      ]
    },
    {
      "cell_type": "code",
      "metadata": {
        "colab": {
          "base_uri": "https://localhost:8080/"
        },
        "id": "aL7TPMg-P7qB",
        "outputId": "3a606026-cda5-440d-dac3-84cbc3afe89d"
      },
      "source": [
        "print(a)"
      ],
      "execution_count": 65,
      "outputs": [
        {
          "output_type": "stream",
          "name": "stdout",
          "text": [
            "[11 33 22 44]\n"
          ]
        }
      ]
    },
    {
      "cell_type": "code",
      "metadata": {
        "colab": {
          "base_uri": "https://localhost:8080/"
        },
        "id": "od12qtOVQED7",
        "outputId": "1e16f9c7-2977-4d80-b293-2d45f61b10ff"
      },
      "source": [
        "e = a.copy() #deep copy\n",
        "print(e)"
      ],
      "execution_count": 66,
      "outputs": [
        {
          "output_type": "stream",
          "name": "stdout",
          "text": [
            "[11 33 22 44]\n"
          ]
        }
      ]
    },
    {
      "cell_type": "code",
      "metadata": {
        "id": "Zv3_AYqpRHRp"
      },
      "source": [
        "a[3] = 44"
      ],
      "execution_count": 67,
      "outputs": []
    },
    {
      "cell_type": "code",
      "metadata": {
        "colab": {
          "base_uri": "https://localhost:8080/"
        },
        "id": "l7ZQelBWRLsr",
        "outputId": "0a5c3ad9-36f2-423e-fa2f-f7007a69624b"
      },
      "source": [
        "print(a)\n",
        "print(e)"
      ],
      "execution_count": 64,
      "outputs": [
        {
          "output_type": "stream",
          "name": "stdout",
          "text": [
            "[11 33 22 44]\n",
            "[11 33 22  3]\n"
          ]
        }
      ]
    }
  ]
}
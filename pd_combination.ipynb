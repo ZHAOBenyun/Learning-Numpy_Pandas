{
  "nbformat": 4,
  "nbformat_minor": 0,
  "metadata": {
    "colab": {
      "name": "pd_combination",
      "provenance": [],
      "authorship_tag": "ABX9TyNn5v+cMT98oxS9wOIfssL0",
      "include_colab_link": true
    },
    "kernelspec": {
      "name": "python3",
      "display_name": "Python 3"
    },
    "language_info": {
      "name": "python"
    }
  },
  "cells": [
    {
      "cell_type": "markdown",
      "metadata": {
        "id": "view-in-github",
        "colab_type": "text"
      },
      "source": [
        "<a href=\"https://colab.research.google.com/github/ZHAOBenyun/Learning-Numpy_Pandas/blob/main/pd_combination.ipynb\" target=\"_parent\"><img src=\"https://colab.research.google.com/assets/colab-badge.svg\" alt=\"Open In Colab\"/></a>"
      ]
    },
    {
      "cell_type": "code",
      "metadata": {
        "id": "ZcXxq8-G-PVM"
      },
      "source": [
        "import numpy as np\n",
        "import pandas as pd"
      ],
      "execution_count": 1,
      "outputs": []
    },
    {
      "cell_type": "code",
      "metadata": {
        "id": "PpPNs4P6-R3k"
      },
      "source": [
        "df1 = pd.DataFrame(np.ones((3,4))*1, columns = ['a','b','c','d'])\n",
        "df2 = pd.DataFrame(np.ones((3,4))*2, columns = ['a','b','c','d'])\n",
        "df3 = pd.DataFrame(np.ones((3,4))*3, columns = ['a','b','c','d'])"
      ],
      "execution_count": 17,
      "outputs": []
    },
    {
      "cell_type": "markdown",
      "metadata": {
        "id": "8iZdVgxzAWMk"
      },
      "source": [
        "***Concatenating***"
      ]
    },
    {
      "cell_type": "code",
      "metadata": {
        "colab": {
          "base_uri": "https://localhost:8080/"
        },
        "id": "Z94SxVqp-kFm",
        "outputId": "659d3232-89a0-4cda-cd06-023619003aae"
      },
      "source": [
        "print(df1)\n",
        "print(df2)\n",
        "print(df3)"
      ],
      "execution_count": 18,
      "outputs": [
        {
          "output_type": "stream",
          "name": "stdout",
          "text": [
            "     a    b    c    d\n",
            "0  1.0  1.0  1.0  1.0\n",
            "1  1.0  1.0  1.0  1.0\n",
            "2  1.0  1.0  1.0  1.0\n",
            "     a    b    c    d\n",
            "0  2.0  2.0  2.0  2.0\n",
            "1  2.0  2.0  2.0  2.0\n",
            "2  2.0  2.0  2.0  2.0\n",
            "     a    b    c    d\n",
            "0  3.0  3.0  3.0  3.0\n",
            "1  3.0  3.0  3.0  3.0\n",
            "2  3.0  3.0  3.0  3.0\n"
          ]
        }
      ]
    },
    {
      "cell_type": "code",
      "metadata": {
        "colab": {
          "base_uri": "https://localhost:8080/"
        },
        "id": "o7q-IRM3-qle",
        "outputId": "a3575137-e5d6-43b1-9dcf-0ff65ef3dff8"
      },
      "source": [
        "#res = pd.concat([df1, df2, df3], axis = 1)  # axis=1 horizontal \n",
        "res = pd.concat([df1, df2, df3], axis = 0)  # axis=0 vertical \n",
        "print(res)"
      ],
      "execution_count": 19,
      "outputs": [
        {
          "output_type": "stream",
          "name": "stdout",
          "text": [
            "     a    b    c    d\n",
            "0  1.0  1.0  1.0  1.0\n",
            "1  1.0  1.0  1.0  1.0\n",
            "2  1.0  1.0  1.0  1.0\n",
            "0  2.0  2.0  2.0  2.0\n",
            "1  2.0  2.0  2.0  2.0\n",
            "2  2.0  2.0  2.0  2.0\n",
            "0  3.0  3.0  3.0  3.0\n",
            "1  3.0  3.0  3.0  3.0\n",
            "2  3.0  3.0  3.0  3.0\n"
          ]
        }
      ]
    },
    {
      "cell_type": "code",
      "metadata": {
        "colab": {
          "base_uri": "https://localhost:8080/"
        },
        "id": "1LGGNJGt-vxX",
        "outputId": "560a88b7-5f4b-4f66-bf81-be5fcef9d0d7"
      },
      "source": [
        "res = pd.concat([df1, df2, df3], axis = 0, ignore_index=True) \n",
        "print(res)"
      ],
      "execution_count": 20,
      "outputs": [
        {
          "output_type": "stream",
          "name": "stdout",
          "text": [
            "     a    b    c    d\n",
            "0  1.0  1.0  1.0  1.0\n",
            "1  1.0  1.0  1.0  1.0\n",
            "2  1.0  1.0  1.0  1.0\n",
            "3  2.0  2.0  2.0  2.0\n",
            "4  2.0  2.0  2.0  2.0\n",
            "5  2.0  2.0  2.0  2.0\n",
            "6  3.0  3.0  3.0  3.0\n",
            "7  3.0  3.0  3.0  3.0\n",
            "8  3.0  3.0  3.0  3.0\n"
          ]
        }
      ]
    },
    {
      "cell_type": "code",
      "metadata": {
        "colab": {
          "base_uri": "https://localhost:8080/"
        },
        "id": "cmjhkCGj_E-w",
        "outputId": "3da9a21e-2ba3-4ae7-b4cc-5011f6da99c7"
      },
      "source": [
        "df4 = pd.DataFrame(np.ones((3,4))*1, columns = ['a','b','c','d'], index=[1,2,3])\n",
        "df5 = pd.DataFrame(np.ones((3,4))*2, columns = ['b','c','d','e'], index=[2,3,4])\n",
        "print(df4)\n",
        "print(df5)"
      ],
      "execution_count": 31,
      "outputs": [
        {
          "output_type": "stream",
          "name": "stdout",
          "text": [
            "     a    b    c    d\n",
            "1  1.0  1.0  1.0  1.0\n",
            "2  1.0  1.0  1.0  1.0\n",
            "3  1.0  1.0  1.0  1.0\n",
            "     b    c    d    e\n",
            "2  2.0  2.0  2.0  2.0\n",
            "3  2.0  2.0  2.0  2.0\n",
            "4  2.0  2.0  2.0  2.0\n"
          ]
        }
      ]
    },
    {
      "cell_type": "code",
      "metadata": {
        "colab": {
          "base_uri": "https://localhost:8080/"
        },
        "id": "3Rvw2wOYBMN6",
        "outputId": "8d9c69e2-9aa4-40b3-870f-5ed57c077cb2"
      },
      "source": [
        "res = pd.concat([df4, df5], join=('inner'), ignore_index=True)  # only keep the same part\n",
        "#res = pd.concat([df4, df5], join=('outer'))\n",
        "print(res)"
      ],
      "execution_count": 33,
      "outputs": [
        {
          "output_type": "stream",
          "name": "stdout",
          "text": [
            "     b    c    d\n",
            "0  1.0  1.0  1.0\n",
            "1  1.0  1.0  1.0\n",
            "2  1.0  1.0  1.0\n",
            "3  2.0  2.0  2.0\n",
            "4  2.0  2.0  2.0\n",
            "5  2.0  2.0  2.0\n"
          ]
        }
      ]
    },
    {
      "cell_type": "markdown",
      "metadata": {
        "id": "ckUl6KRyD_1n"
      },
      "source": [
        "***Append***"
      ]
    },
    {
      "cell_type": "code",
      "metadata": {
        "colab": {
          "base_uri": "https://localhost:8080/",
          "height": 235
        },
        "id": "FbHbbioIBQMy",
        "outputId": "9a350b25-a3b3-411d-e23c-ffcdcbdc4e03"
      },
      "source": [
        "res = df1.append(df2, ignore_index=True)\n",
        "res"
      ],
      "execution_count": 35,
      "outputs": [
        {
          "output_type": "execute_result",
          "data": {
            "text/html": [
              "<div>\n",
              "<style scoped>\n",
              "    .dataframe tbody tr th:only-of-type {\n",
              "        vertical-align: middle;\n",
              "    }\n",
              "\n",
              "    .dataframe tbody tr th {\n",
              "        vertical-align: top;\n",
              "    }\n",
              "\n",
              "    .dataframe thead th {\n",
              "        text-align: right;\n",
              "    }\n",
              "</style>\n",
              "<table border=\"1\" class=\"dataframe\">\n",
              "  <thead>\n",
              "    <tr style=\"text-align: right;\">\n",
              "      <th></th>\n",
              "      <th>a</th>\n",
              "      <th>b</th>\n",
              "      <th>c</th>\n",
              "      <th>d</th>\n",
              "    </tr>\n",
              "  </thead>\n",
              "  <tbody>\n",
              "    <tr>\n",
              "      <th>0</th>\n",
              "      <td>1.0</td>\n",
              "      <td>1.0</td>\n",
              "      <td>1.0</td>\n",
              "      <td>1.0</td>\n",
              "    </tr>\n",
              "    <tr>\n",
              "      <th>1</th>\n",
              "      <td>1.0</td>\n",
              "      <td>1.0</td>\n",
              "      <td>1.0</td>\n",
              "      <td>1.0</td>\n",
              "    </tr>\n",
              "    <tr>\n",
              "      <th>2</th>\n",
              "      <td>1.0</td>\n",
              "      <td>1.0</td>\n",
              "      <td>1.0</td>\n",
              "      <td>1.0</td>\n",
              "    </tr>\n",
              "    <tr>\n",
              "      <th>3</th>\n",
              "      <td>2.0</td>\n",
              "      <td>2.0</td>\n",
              "      <td>2.0</td>\n",
              "      <td>2.0</td>\n",
              "    </tr>\n",
              "    <tr>\n",
              "      <th>4</th>\n",
              "      <td>2.0</td>\n",
              "      <td>2.0</td>\n",
              "      <td>2.0</td>\n",
              "      <td>2.0</td>\n",
              "    </tr>\n",
              "    <tr>\n",
              "      <th>5</th>\n",
              "      <td>2.0</td>\n",
              "      <td>2.0</td>\n",
              "      <td>2.0</td>\n",
              "      <td>2.0</td>\n",
              "    </tr>\n",
              "  </tbody>\n",
              "</table>\n",
              "</div>"
            ],
            "text/plain": [
              "     a    b    c    d\n",
              "0  1.0  1.0  1.0  1.0\n",
              "1  1.0  1.0  1.0  1.0\n",
              "2  1.0  1.0  1.0  1.0\n",
              "3  2.0  2.0  2.0  2.0\n",
              "4  2.0  2.0  2.0  2.0\n",
              "5  2.0  2.0  2.0  2.0"
            ]
          },
          "metadata": {},
          "execution_count": 35
        }
      ]
    },
    {
      "cell_type": "code",
      "metadata": {
        "colab": {
          "base_uri": "https://localhost:8080/",
          "height": 328
        },
        "id": "2YhkEgLlDrGM",
        "outputId": "79397473-2dad-4271-89e0-7f6e0a33e34b"
      },
      "source": [
        "res = df1.append([df2, df3], ignore_index=True)\n",
        "res"
      ],
      "execution_count": 37,
      "outputs": [
        {
          "output_type": "execute_result",
          "data": {
            "text/html": [
              "<div>\n",
              "<style scoped>\n",
              "    .dataframe tbody tr th:only-of-type {\n",
              "        vertical-align: middle;\n",
              "    }\n",
              "\n",
              "    .dataframe tbody tr th {\n",
              "        vertical-align: top;\n",
              "    }\n",
              "\n",
              "    .dataframe thead th {\n",
              "        text-align: right;\n",
              "    }\n",
              "</style>\n",
              "<table border=\"1\" class=\"dataframe\">\n",
              "  <thead>\n",
              "    <tr style=\"text-align: right;\">\n",
              "      <th></th>\n",
              "      <th>a</th>\n",
              "      <th>b</th>\n",
              "      <th>c</th>\n",
              "      <th>d</th>\n",
              "    </tr>\n",
              "  </thead>\n",
              "  <tbody>\n",
              "    <tr>\n",
              "      <th>0</th>\n",
              "      <td>1.0</td>\n",
              "      <td>1.0</td>\n",
              "      <td>1.0</td>\n",
              "      <td>1.0</td>\n",
              "    </tr>\n",
              "    <tr>\n",
              "      <th>1</th>\n",
              "      <td>1.0</td>\n",
              "      <td>1.0</td>\n",
              "      <td>1.0</td>\n",
              "      <td>1.0</td>\n",
              "    </tr>\n",
              "    <tr>\n",
              "      <th>2</th>\n",
              "      <td>1.0</td>\n",
              "      <td>1.0</td>\n",
              "      <td>1.0</td>\n",
              "      <td>1.0</td>\n",
              "    </tr>\n",
              "    <tr>\n",
              "      <th>3</th>\n",
              "      <td>2.0</td>\n",
              "      <td>2.0</td>\n",
              "      <td>2.0</td>\n",
              "      <td>2.0</td>\n",
              "    </tr>\n",
              "    <tr>\n",
              "      <th>4</th>\n",
              "      <td>2.0</td>\n",
              "      <td>2.0</td>\n",
              "      <td>2.0</td>\n",
              "      <td>2.0</td>\n",
              "    </tr>\n",
              "    <tr>\n",
              "      <th>5</th>\n",
              "      <td>2.0</td>\n",
              "      <td>2.0</td>\n",
              "      <td>2.0</td>\n",
              "      <td>2.0</td>\n",
              "    </tr>\n",
              "    <tr>\n",
              "      <th>6</th>\n",
              "      <td>3.0</td>\n",
              "      <td>3.0</td>\n",
              "      <td>3.0</td>\n",
              "      <td>3.0</td>\n",
              "    </tr>\n",
              "    <tr>\n",
              "      <th>7</th>\n",
              "      <td>3.0</td>\n",
              "      <td>3.0</td>\n",
              "      <td>3.0</td>\n",
              "      <td>3.0</td>\n",
              "    </tr>\n",
              "    <tr>\n",
              "      <th>8</th>\n",
              "      <td>3.0</td>\n",
              "      <td>3.0</td>\n",
              "      <td>3.0</td>\n",
              "      <td>3.0</td>\n",
              "    </tr>\n",
              "  </tbody>\n",
              "</table>\n",
              "</div>"
            ],
            "text/plain": [
              "     a    b    c    d\n",
              "0  1.0  1.0  1.0  1.0\n",
              "1  1.0  1.0  1.0  1.0\n",
              "2  1.0  1.0  1.0  1.0\n",
              "3  2.0  2.0  2.0  2.0\n",
              "4  2.0  2.0  2.0  2.0\n",
              "5  2.0  2.0  2.0  2.0\n",
              "6  3.0  3.0  3.0  3.0\n",
              "7  3.0  3.0  3.0  3.0\n",
              "8  3.0  3.0  3.0  3.0"
            ]
          },
          "metadata": {},
          "execution_count": 37
        }
      ]
    },
    {
      "cell_type": "code",
      "metadata": {
        "id": "vtgseOL3FZwD"
      },
      "source": [
        "s1 = pd.Series([1,2,3,4], index = ['a','b','c','d'])"
      ],
      "execution_count": 38,
      "outputs": []
    },
    {
      "cell_type": "code",
      "metadata": {
        "colab": {
          "base_uri": "https://localhost:8080/",
          "height": 173
        },
        "id": "8emrrFjuGtgX",
        "outputId": "670ef028-4a9c-45f6-9cc6-b087e8531ce4"
      },
      "source": [
        "res = df1.append(s1, ignore_index=True)\n",
        "res"
      ],
      "execution_count": 40,
      "outputs": [
        {
          "output_type": "execute_result",
          "data": {
            "text/html": [
              "<div>\n",
              "<style scoped>\n",
              "    .dataframe tbody tr th:only-of-type {\n",
              "        vertical-align: middle;\n",
              "    }\n",
              "\n",
              "    .dataframe tbody tr th {\n",
              "        vertical-align: top;\n",
              "    }\n",
              "\n",
              "    .dataframe thead th {\n",
              "        text-align: right;\n",
              "    }\n",
              "</style>\n",
              "<table border=\"1\" class=\"dataframe\">\n",
              "  <thead>\n",
              "    <tr style=\"text-align: right;\">\n",
              "      <th></th>\n",
              "      <th>a</th>\n",
              "      <th>b</th>\n",
              "      <th>c</th>\n",
              "      <th>d</th>\n",
              "    </tr>\n",
              "  </thead>\n",
              "  <tbody>\n",
              "    <tr>\n",
              "      <th>0</th>\n",
              "      <td>1.0</td>\n",
              "      <td>1.0</td>\n",
              "      <td>1.0</td>\n",
              "      <td>1.0</td>\n",
              "    </tr>\n",
              "    <tr>\n",
              "      <th>1</th>\n",
              "      <td>1.0</td>\n",
              "      <td>1.0</td>\n",
              "      <td>1.0</td>\n",
              "      <td>1.0</td>\n",
              "    </tr>\n",
              "    <tr>\n",
              "      <th>2</th>\n",
              "      <td>1.0</td>\n",
              "      <td>1.0</td>\n",
              "      <td>1.0</td>\n",
              "      <td>1.0</td>\n",
              "    </tr>\n",
              "    <tr>\n",
              "      <th>3</th>\n",
              "      <td>1.0</td>\n",
              "      <td>2.0</td>\n",
              "      <td>3.0</td>\n",
              "      <td>4.0</td>\n",
              "    </tr>\n",
              "  </tbody>\n",
              "</table>\n",
              "</div>"
            ],
            "text/plain": [
              "     a    b    c    d\n",
              "0  1.0  1.0  1.0  1.0\n",
              "1  1.0  1.0  1.0  1.0\n",
              "2  1.0  1.0  1.0  1.0\n",
              "3  1.0  2.0  3.0  4.0"
            ]
          },
          "metadata": {},
          "execution_count": 40
        }
      ]
    },
    {
      "cell_type": "markdown",
      "metadata": {
        "id": "4IjUo67lIXYA"
      },
      "source": [
        "***Merge***"
      ]
    },
    {
      "cell_type": "code",
      "metadata": {
        "colab": {
          "base_uri": "https://localhost:8080/"
        },
        "id": "fIGiMmF2GyCZ",
        "outputId": "2a9fb05c-0ee3-467c-98db-1316c3e0035b"
      },
      "source": [
        "left = pd.DataFrame({'key':['K0','K1','K2','K3'],\n",
        "          'A':['A0','A1','A2','A3'],\n",
        "          'B':['B0','B1','B2','B3']})\n",
        "right = pd.DataFrame({'key':['K0','K1','K2','K3'],\n",
        "          'C':['C0','C1','C2','C3'],\n",
        "          'D':['D0','D1','D2','D3']})\n",
        "print(left)\n",
        "print(right)"
      ],
      "execution_count": 41,
      "outputs": [
        {
          "output_type": "stream",
          "name": "stdout",
          "text": [
            "  key   A   B\n",
            "0  K0  A0  B0\n",
            "1  K1  A1  B1\n",
            "2  K2  A2  B2\n",
            "3  K3  A3  B3\n",
            "  key   C   D\n",
            "0  K0  C0  D0\n",
            "1  K1  C1  D1\n",
            "2  K2  C2  D2\n",
            "3  K3  C3  D3\n"
          ]
        }
      ]
    },
    {
      "cell_type": "code",
      "metadata": {
        "colab": {
          "base_uri": "https://localhost:8080/"
        },
        "id": "b_0ULU3DI92w",
        "outputId": "6789c9cc-ce8a-4088-9487-5ba7eac382d1"
      },
      "source": [
        "res = pd.merge(left,right, on ='key')\n",
        "print(res)"
      ],
      "execution_count": 43,
      "outputs": [
        {
          "output_type": "stream",
          "name": "stdout",
          "text": [
            "  key   A   B   C   D\n",
            "0  K0  A0  B0  C0  D0\n",
            "1  K1  A1  B1  C1  D1\n",
            "2  K2  A2  B2  C2  D2\n",
            "3  K3  A3  B3  C3  D3\n"
          ]
        }
      ]
    },
    {
      "cell_type": "code",
      "metadata": {
        "colab": {
          "base_uri": "https://localhost:8080/"
        },
        "id": "KupVuSOaJhrp",
        "outputId": "bd7ce308-ff72-4b5e-bd93-7b35297bd256"
      },
      "source": [
        "left1 = pd.DataFrame({'key1':['K0','K1','K2','K3'],\n",
        "          'key2':['K0','K0','K1','K2'],\n",
        "          'A':['A0','A1','A2','A3'],\n",
        "          'B':['B0','B1','B2','B3']})\n",
        "right1 = pd.DataFrame({'key1':['K0','K1','K2','K3'],\n",
        "          'key2':['K0','K1','K1','K2'],\n",
        "          'C':['C0','C1','C2','C3'],\n",
        "          'D':['D0','D1','D2','D3']})\n",
        "print(left1)\n",
        "print(right1)"
      ],
      "execution_count": 50,
      "outputs": [
        {
          "output_type": "stream",
          "name": "stdout",
          "text": [
            "  key1 key2   A   B\n",
            "0   K0   K0  A0  B0\n",
            "1   K1   K0  A1  B1\n",
            "2   K2   K1  A2  B2\n",
            "3   K3   K2  A3  B3\n",
            "  key1 key2   C   D\n",
            "0   K0   K0  C0  D0\n",
            "1   K1   K1  C1  D1\n",
            "2   K2   K1  C2  D2\n",
            "3   K3   K2  C3  D3\n"
          ]
        }
      ]
    },
    {
      "cell_type": "code",
      "metadata": {
        "colab": {
          "base_uri": "https://localhost:8080/",
          "height": 142
        },
        "id": "VKQw3JKbJ1xq",
        "outputId": "6aaff74f-3110-4d5a-a68c-05c3d578e17b"
      },
      "source": [
        "res1 = pd.merge(left1,right1, on=['key1','key2'], how='inner')  # inner: keep the same parts in key1 and key2\n",
        "res1"
      ],
      "execution_count": 51,
      "outputs": [
        {
          "output_type": "execute_result",
          "data": {
            "text/html": [
              "<div>\n",
              "<style scoped>\n",
              "    .dataframe tbody tr th:only-of-type {\n",
              "        vertical-align: middle;\n",
              "    }\n",
              "\n",
              "    .dataframe tbody tr th {\n",
              "        vertical-align: top;\n",
              "    }\n",
              "\n",
              "    .dataframe thead th {\n",
              "        text-align: right;\n",
              "    }\n",
              "</style>\n",
              "<table border=\"1\" class=\"dataframe\">\n",
              "  <thead>\n",
              "    <tr style=\"text-align: right;\">\n",
              "      <th></th>\n",
              "      <th>key1</th>\n",
              "      <th>key2</th>\n",
              "      <th>A</th>\n",
              "      <th>B</th>\n",
              "      <th>C</th>\n",
              "      <th>D</th>\n",
              "    </tr>\n",
              "  </thead>\n",
              "  <tbody>\n",
              "    <tr>\n",
              "      <th>0</th>\n",
              "      <td>K0</td>\n",
              "      <td>K0</td>\n",
              "      <td>A0</td>\n",
              "      <td>B0</td>\n",
              "      <td>C0</td>\n",
              "      <td>D0</td>\n",
              "    </tr>\n",
              "    <tr>\n",
              "      <th>1</th>\n",
              "      <td>K2</td>\n",
              "      <td>K1</td>\n",
              "      <td>A2</td>\n",
              "      <td>B2</td>\n",
              "      <td>C2</td>\n",
              "      <td>D2</td>\n",
              "    </tr>\n",
              "    <tr>\n",
              "      <th>2</th>\n",
              "      <td>K3</td>\n",
              "      <td>K2</td>\n",
              "      <td>A3</td>\n",
              "      <td>B3</td>\n",
              "      <td>C3</td>\n",
              "      <td>D3</td>\n",
              "    </tr>\n",
              "  </tbody>\n",
              "</table>\n",
              "</div>"
            ],
            "text/plain": [
              "  key1 key2   A   B   C   D\n",
              "0   K0   K0  A0  B0  C0  D0\n",
              "1   K2   K1  A2  B2  C2  D2\n",
              "2   K3   K2  A3  B3  C3  D3"
            ]
          },
          "metadata": {},
          "execution_count": 51
        }
      ]
    },
    {
      "cell_type": "code",
      "metadata": {
        "colab": {
          "base_uri": "https://localhost:8080/",
          "height": 204
        },
        "id": "dMR2edcWLIuS",
        "outputId": "85a37e55-c3d0-4fdc-9d98-94b45ec226ca"
      },
      "source": [
        "res2 = pd.merge(left1,right1, on=['key1','key2'], how='outer')  # outer: keep all parts, and using none\n",
        "res2"
      ],
      "execution_count": 52,
      "outputs": [
        {
          "output_type": "execute_result",
          "data": {
            "text/html": [
              "<div>\n",
              "<style scoped>\n",
              "    .dataframe tbody tr th:only-of-type {\n",
              "        vertical-align: middle;\n",
              "    }\n",
              "\n",
              "    .dataframe tbody tr th {\n",
              "        vertical-align: top;\n",
              "    }\n",
              "\n",
              "    .dataframe thead th {\n",
              "        text-align: right;\n",
              "    }\n",
              "</style>\n",
              "<table border=\"1\" class=\"dataframe\">\n",
              "  <thead>\n",
              "    <tr style=\"text-align: right;\">\n",
              "      <th></th>\n",
              "      <th>key1</th>\n",
              "      <th>key2</th>\n",
              "      <th>A</th>\n",
              "      <th>B</th>\n",
              "      <th>C</th>\n",
              "      <th>D</th>\n",
              "    </tr>\n",
              "  </thead>\n",
              "  <tbody>\n",
              "    <tr>\n",
              "      <th>0</th>\n",
              "      <td>K0</td>\n",
              "      <td>K0</td>\n",
              "      <td>A0</td>\n",
              "      <td>B0</td>\n",
              "      <td>C0</td>\n",
              "      <td>D0</td>\n",
              "    </tr>\n",
              "    <tr>\n",
              "      <th>1</th>\n",
              "      <td>K1</td>\n",
              "      <td>K0</td>\n",
              "      <td>A1</td>\n",
              "      <td>B1</td>\n",
              "      <td>NaN</td>\n",
              "      <td>NaN</td>\n",
              "    </tr>\n",
              "    <tr>\n",
              "      <th>2</th>\n",
              "      <td>K2</td>\n",
              "      <td>K1</td>\n",
              "      <td>A2</td>\n",
              "      <td>B2</td>\n",
              "      <td>C2</td>\n",
              "      <td>D2</td>\n",
              "    </tr>\n",
              "    <tr>\n",
              "      <th>3</th>\n",
              "      <td>K3</td>\n",
              "      <td>K2</td>\n",
              "      <td>A3</td>\n",
              "      <td>B3</td>\n",
              "      <td>C3</td>\n",
              "      <td>D3</td>\n",
              "    </tr>\n",
              "    <tr>\n",
              "      <th>4</th>\n",
              "      <td>K1</td>\n",
              "      <td>K1</td>\n",
              "      <td>NaN</td>\n",
              "      <td>NaN</td>\n",
              "      <td>C1</td>\n",
              "      <td>D1</td>\n",
              "    </tr>\n",
              "  </tbody>\n",
              "</table>\n",
              "</div>"
            ],
            "text/plain": [
              "  key1 key2    A    B    C    D\n",
              "0   K0   K0   A0   B0   C0   D0\n",
              "1   K1   K0   A1   B1  NaN  NaN\n",
              "2   K2   K1   A2   B2   C2   D2\n",
              "3   K3   K2   A3   B3   C3   D3\n",
              "4   K1   K1  NaN  NaN   C1   D1"
            ]
          },
          "metadata": {},
          "execution_count": 52
        }
      ]
    },
    {
      "cell_type": "code",
      "metadata": {
        "colab": {
          "base_uri": "https://localhost:8080/",
          "height": 173
        },
        "id": "otifP2pSL8Wm",
        "outputId": "545305f8-1d8e-4423-cabe-2103a7dc4cc1"
      },
      "source": [
        "res3 = pd.merge(left1,right1, on=['key1','key2'], how='right')  # right: keep all parts of key1 and key2 of the latter one(right1)\n",
        "res3"
      ],
      "execution_count": 53,
      "outputs": [
        {
          "output_type": "execute_result",
          "data": {
            "text/html": [
              "<div>\n",
              "<style scoped>\n",
              "    .dataframe tbody tr th:only-of-type {\n",
              "        vertical-align: middle;\n",
              "    }\n",
              "\n",
              "    .dataframe tbody tr th {\n",
              "        vertical-align: top;\n",
              "    }\n",
              "\n",
              "    .dataframe thead th {\n",
              "        text-align: right;\n",
              "    }\n",
              "</style>\n",
              "<table border=\"1\" class=\"dataframe\">\n",
              "  <thead>\n",
              "    <tr style=\"text-align: right;\">\n",
              "      <th></th>\n",
              "      <th>key1</th>\n",
              "      <th>key2</th>\n",
              "      <th>A</th>\n",
              "      <th>B</th>\n",
              "      <th>C</th>\n",
              "      <th>D</th>\n",
              "    </tr>\n",
              "  </thead>\n",
              "  <tbody>\n",
              "    <tr>\n",
              "      <th>0</th>\n",
              "      <td>K0</td>\n",
              "      <td>K0</td>\n",
              "      <td>A0</td>\n",
              "      <td>B0</td>\n",
              "      <td>C0</td>\n",
              "      <td>D0</td>\n",
              "    </tr>\n",
              "    <tr>\n",
              "      <th>1</th>\n",
              "      <td>K1</td>\n",
              "      <td>K1</td>\n",
              "      <td>NaN</td>\n",
              "      <td>NaN</td>\n",
              "      <td>C1</td>\n",
              "      <td>D1</td>\n",
              "    </tr>\n",
              "    <tr>\n",
              "      <th>2</th>\n",
              "      <td>K2</td>\n",
              "      <td>K1</td>\n",
              "      <td>A2</td>\n",
              "      <td>B2</td>\n",
              "      <td>C2</td>\n",
              "      <td>D2</td>\n",
              "    </tr>\n",
              "    <tr>\n",
              "      <th>3</th>\n",
              "      <td>K3</td>\n",
              "      <td>K2</td>\n",
              "      <td>A3</td>\n",
              "      <td>B3</td>\n",
              "      <td>C3</td>\n",
              "      <td>D3</td>\n",
              "    </tr>\n",
              "  </tbody>\n",
              "</table>\n",
              "</div>"
            ],
            "text/plain": [
              "  key1 key2    A    B   C   D\n",
              "0   K0   K0   A0   B0  C0  D0\n",
              "1   K1   K1  NaN  NaN  C1  D1\n",
              "2   K2   K1   A2   B2  C2  D2\n",
              "3   K3   K2   A3   B3  C3  D3"
            ]
          },
          "metadata": {},
          "execution_count": 53
        }
      ]
    },
    {
      "cell_type": "code",
      "metadata": {
        "colab": {
          "base_uri": "https://localhost:8080/",
          "height": 173
        },
        "id": "va69t3R9MIVY",
        "outputId": "8454c988-cd32-4346-c6eb-89ea6936f566"
      },
      "source": [
        "res4 = pd.merge(left1,right1, on=['key1','key2'], how='left')  # left: keep all parts of key1 and key2 of the former one(left1)\n",
        "res4"
      ],
      "execution_count": 55,
      "outputs": [
        {
          "output_type": "execute_result",
          "data": {
            "text/html": [
              "<div>\n",
              "<style scoped>\n",
              "    .dataframe tbody tr th:only-of-type {\n",
              "        vertical-align: middle;\n",
              "    }\n",
              "\n",
              "    .dataframe tbody tr th {\n",
              "        vertical-align: top;\n",
              "    }\n",
              "\n",
              "    .dataframe thead th {\n",
              "        text-align: right;\n",
              "    }\n",
              "</style>\n",
              "<table border=\"1\" class=\"dataframe\">\n",
              "  <thead>\n",
              "    <tr style=\"text-align: right;\">\n",
              "      <th></th>\n",
              "      <th>key1</th>\n",
              "      <th>key2</th>\n",
              "      <th>A</th>\n",
              "      <th>B</th>\n",
              "      <th>C</th>\n",
              "      <th>D</th>\n",
              "    </tr>\n",
              "  </thead>\n",
              "  <tbody>\n",
              "    <tr>\n",
              "      <th>0</th>\n",
              "      <td>K0</td>\n",
              "      <td>K0</td>\n",
              "      <td>A0</td>\n",
              "      <td>B0</td>\n",
              "      <td>C0</td>\n",
              "      <td>D0</td>\n",
              "    </tr>\n",
              "    <tr>\n",
              "      <th>1</th>\n",
              "      <td>K1</td>\n",
              "      <td>K0</td>\n",
              "      <td>A1</td>\n",
              "      <td>B1</td>\n",
              "      <td>NaN</td>\n",
              "      <td>NaN</td>\n",
              "    </tr>\n",
              "    <tr>\n",
              "      <th>2</th>\n",
              "      <td>K2</td>\n",
              "      <td>K1</td>\n",
              "      <td>A2</td>\n",
              "      <td>B2</td>\n",
              "      <td>C2</td>\n",
              "      <td>D2</td>\n",
              "    </tr>\n",
              "    <tr>\n",
              "      <th>3</th>\n",
              "      <td>K3</td>\n",
              "      <td>K2</td>\n",
              "      <td>A3</td>\n",
              "      <td>B3</td>\n",
              "      <td>C3</td>\n",
              "      <td>D3</td>\n",
              "    </tr>\n",
              "  </tbody>\n",
              "</table>\n",
              "</div>"
            ],
            "text/plain": [
              "  key1 key2   A   B    C    D\n",
              "0   K0   K0  A0  B0   C0   D0\n",
              "1   K1   K0  A1  B1  NaN  NaN\n",
              "2   K2   K1  A2  B2   C2   D2\n",
              "3   K3   K2  A3  B3   C3   D3"
            ]
          },
          "metadata": {},
          "execution_count": 55
        }
      ]
    },
    {
      "cell_type": "code",
      "metadata": {
        "colab": {
          "base_uri": "https://localhost:8080/"
        },
        "id": "4Uufqb1oM7b-",
        "outputId": "e2727fb5-7118-4711-a1e6-6ed41068db3c"
      },
      "source": [
        "df4 = pd.DataFrame({'col1':[0,1], 'col_left':['a','b']})\n",
        "df5 = pd.DataFrame({'col1':[1,2,2], 'col_right':[2,2,2]})\n",
        "print(df4)\n",
        "print(df5)"
      ],
      "execution_count": 56,
      "outputs": [
        {
          "output_type": "stream",
          "name": "stdout",
          "text": [
            "   col1 col_left\n",
            "0     0        a\n",
            "1     1        b\n",
            "   col1  col_right\n",
            "0     1          2\n",
            "1     2          2\n",
            "2     2          2\n"
          ]
        }
      ]
    },
    {
      "cell_type": "code",
      "metadata": {
        "colab": {
          "base_uri": "https://localhost:8080/"
        },
        "id": "ixQw21m5Nqon",
        "outputId": "aa66cda8-f6de-4828-a0e5-2b0e05c9ea34"
      },
      "source": [
        "res = pd.merge(df4, df5, on='col1', how='outer', indicator=True)  # show the method of merge\n",
        "# res = pd.merge(df4, df5, on='col1', how='outer', indicator='indicator_column')  # change the name of indicator\n",
        "print(res)"
      ],
      "execution_count": 59,
      "outputs": [
        {
          "output_type": "stream",
          "name": "stdout",
          "text": [
            "   col1 col_left  col_right      _merge\n",
            "0     0        a        NaN   left_only\n",
            "1     1        b        2.0        both\n",
            "2     2      NaN        2.0  right_only\n",
            "3     2      NaN        2.0  right_only\n"
          ]
        }
      ]
    },
    {
      "cell_type": "code",
      "metadata": {
        "colab": {
          "base_uri": "https://localhost:8080/"
        },
        "id": "uvOSXPLEOI0G",
        "outputId": "c3027e8f-e971-4906-d710-4e5082fec2a5"
      },
      "source": [
        "left2 = pd.DataFrame({'A':['A0','A1','A2'],\n",
        "            'B':['B0','B1','B2'],\n",
        "            'index':['K0','K1','K2']})\n",
        "right2 = pd.DataFrame({'C':['C0','C2','C3'],\n",
        "            'D':['D0','D2','D2'],\n",
        "            'index':['K0','K2','K3']})\n",
        "print(left2)\n",
        "print(right2)"
      ],
      "execution_count": 65,
      "outputs": [
        {
          "output_type": "stream",
          "name": "stdout",
          "text": [
            "    A   B index\n",
            "0  A0  B0    K0\n",
            "1  A1  B1    K1\n",
            "2  A2  B2    K2\n",
            "    C   D index\n",
            "0  C0  D0    K0\n",
            "1  C2  D2    K2\n",
            "2  C3  D2    K3\n"
          ]
        }
      ]
    },
    {
      "cell_type": "code",
      "metadata": {
        "colab": {
          "base_uri": "https://localhost:8080/"
        },
        "id": "toPUQvEeQA0t",
        "outputId": "4c300568-36c6-4010-bfa1-12b72829c918"
      },
      "source": [
        "res = pd.merge(left2,right2,how='outer')\n",
        "# res = pd.merge(left2,right2,how='inner')\n",
        "print(res)"
      ],
      "execution_count": 68,
      "outputs": [
        {
          "output_type": "stream",
          "name": "stdout",
          "text": [
            "     A    B index    C    D\n",
            "0   A0   B0    K0   C0   D0\n",
            "1   A1   B1    K1  NaN  NaN\n",
            "2   A2   B2    K2   C2   D2\n",
            "3  NaN  NaN    K3   C3   D2\n"
          ]
        }
      ]
    },
    {
      "cell_type": "code",
      "metadata": {
        "colab": {
          "base_uri": "https://localhost:8080/"
        },
        "id": "v8BNfg79QeKC",
        "outputId": "a54d7d9c-15e4-442b-e8fb-e4bb34222853"
      },
      "source": [
        "boys = pd.DataFrame({'k':['K0','K1','K2'], 'age':[1,2,3]})\n",
        "girls = pd.DataFrame({'k':['K0','K0','K3'], 'age':[4,5,6]})\n",
        "print(boys)\n",
        "print(girls)"
      ],
      "execution_count": 83,
      "outputs": [
        {
          "output_type": "stream",
          "name": "stdout",
          "text": [
            "    k  age\n",
            "0  K0    1\n",
            "1  K1    2\n",
            "2  K2    3\n",
            "    k  age\n",
            "0  K0    4\n",
            "1  K0    5\n",
            "2  K3    6\n"
          ]
        }
      ]
    },
    {
      "cell_type": "code",
      "metadata": {
        "colab": {
          "base_uri": "https://localhost:8080/",
          "height": 204
        },
        "id": "p7nA3lMuRotN",
        "outputId": "2bab8c10-82ae-417c-dd6a-6f69539610c7"
      },
      "source": [
        "res = pd.merge(boys, girls, on='k', suffixes=['_boys', '_girls'], how='outer')  # on: acoording to this keyword\n",
        "res"
      ],
      "execution_count": 84,
      "outputs": [
        {
          "output_type": "execute_result",
          "data": {
            "text/html": [
              "<div>\n",
              "<style scoped>\n",
              "    .dataframe tbody tr th:only-of-type {\n",
              "        vertical-align: middle;\n",
              "    }\n",
              "\n",
              "    .dataframe tbody tr th {\n",
              "        vertical-align: top;\n",
              "    }\n",
              "\n",
              "    .dataframe thead th {\n",
              "        text-align: right;\n",
              "    }\n",
              "</style>\n",
              "<table border=\"1\" class=\"dataframe\">\n",
              "  <thead>\n",
              "    <tr style=\"text-align: right;\">\n",
              "      <th></th>\n",
              "      <th>k</th>\n",
              "      <th>age_boys</th>\n",
              "      <th>age_girls</th>\n",
              "    </tr>\n",
              "  </thead>\n",
              "  <tbody>\n",
              "    <tr>\n",
              "      <th>0</th>\n",
              "      <td>K0</td>\n",
              "      <td>1.0</td>\n",
              "      <td>4.0</td>\n",
              "    </tr>\n",
              "    <tr>\n",
              "      <th>1</th>\n",
              "      <td>K0</td>\n",
              "      <td>1.0</td>\n",
              "      <td>5.0</td>\n",
              "    </tr>\n",
              "    <tr>\n",
              "      <th>2</th>\n",
              "      <td>K1</td>\n",
              "      <td>2.0</td>\n",
              "      <td>NaN</td>\n",
              "    </tr>\n",
              "    <tr>\n",
              "      <th>3</th>\n",
              "      <td>K2</td>\n",
              "      <td>3.0</td>\n",
              "      <td>NaN</td>\n",
              "    </tr>\n",
              "    <tr>\n",
              "      <th>4</th>\n",
              "      <td>K3</td>\n",
              "      <td>NaN</td>\n",
              "      <td>6.0</td>\n",
              "    </tr>\n",
              "  </tbody>\n",
              "</table>\n",
              "</div>"
            ],
            "text/plain": [
              "    k  age_boys  age_girls\n",
              "0  K0       1.0        4.0\n",
              "1  K0       1.0        5.0\n",
              "2  K1       2.0        NaN\n",
              "3  K2       3.0        NaN\n",
              "4  K3       NaN        6.0"
            ]
          },
          "metadata": {},
          "execution_count": 84
        }
      ]
    },
    {
      "cell_type": "code",
      "metadata": {
        "colab": {
          "base_uri": "https://localhost:8080/",
          "height": 111
        },
        "id": "v4NOPKoeSvzZ",
        "outputId": "8fdc2af5-ce20-42d6-ac8f-78c771aeebcb"
      },
      "source": [
        "res = pd.merge(boys, girls, on='k', suffixes=['_boys', '_girls'], how='inner')  # on: acoording to this keyword\n",
        "res"
      ],
      "execution_count": 85,
      "outputs": [
        {
          "output_type": "execute_result",
          "data": {
            "text/html": [
              "<div>\n",
              "<style scoped>\n",
              "    .dataframe tbody tr th:only-of-type {\n",
              "        vertical-align: middle;\n",
              "    }\n",
              "\n",
              "    .dataframe tbody tr th {\n",
              "        vertical-align: top;\n",
              "    }\n",
              "\n",
              "    .dataframe thead th {\n",
              "        text-align: right;\n",
              "    }\n",
              "</style>\n",
              "<table border=\"1\" class=\"dataframe\">\n",
              "  <thead>\n",
              "    <tr style=\"text-align: right;\">\n",
              "      <th></th>\n",
              "      <th>k</th>\n",
              "      <th>age_boys</th>\n",
              "      <th>age_girls</th>\n",
              "    </tr>\n",
              "  </thead>\n",
              "  <tbody>\n",
              "    <tr>\n",
              "      <th>0</th>\n",
              "      <td>K0</td>\n",
              "      <td>1</td>\n",
              "      <td>4</td>\n",
              "    </tr>\n",
              "    <tr>\n",
              "      <th>1</th>\n",
              "      <td>K0</td>\n",
              "      <td>1</td>\n",
              "      <td>5</td>\n",
              "    </tr>\n",
              "  </tbody>\n",
              "</table>\n",
              "</div>"
            ],
            "text/plain": [
              "    k  age_boys  age_girls\n",
              "0  K0         1          4\n",
              "1  K0         1          5"
            ]
          },
          "metadata": {},
          "execution_count": 85
        }
      ]
    }
  ]
}
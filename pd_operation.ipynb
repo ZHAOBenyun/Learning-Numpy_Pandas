{
  "nbformat": 4,
  "nbformat_minor": 0,
  "metadata": {
    "colab": {
      "name": "pd_operation",
      "provenance": [],
      "collapsed_sections": [],
      "toc_visible": true,
      "authorship_tag": "ABX9TyNQKoBbYoCgWmlFE4J3viMW",
      "include_colab_link": true
    },
    "kernelspec": {
      "name": "python3",
      "display_name": "Python 3"
    },
    "language_info": {
      "name": "python"
    }
  },
  "cells": [
    {
      "cell_type": "markdown",
      "metadata": {
        "id": "view-in-github",
        "colab_type": "text"
      },
      "source": [
        "<a href=\"https://colab.research.google.com/github/ZHAOBenyun/Learning-Numpy_Pandas/blob/main/pd_operation.ipynb\" target=\"_parent\"><img src=\"https://colab.research.google.com/assets/colab-badge.svg\" alt=\"Open In Colab\"/></a>"
      ]
    },
    {
      "cell_type": "code",
      "metadata": {
        "id": "yzHT1RNIQK0v"
      },
      "source": [
        "import pandas as pd  # pandas = dictionary\n",
        "import numpy as np  # numpy = list"
      ],
      "execution_count": 3,
      "outputs": []
    },
    {
      "cell_type": "code",
      "metadata": {
        "colab": {
          "base_uri": "https://localhost:8080/"
        },
        "id": "0WZVInS0QO91",
        "outputId": "eb75dae4-5ede-4408-8cae-60748e08a11c"
      },
      "source": [
        "s = pd.Series([1,3,5,6,np.nan,44,9])\n",
        "print(s)"
      ],
      "execution_count": 4,
      "outputs": [
        {
          "output_type": "stream",
          "name": "stdout",
          "text": [
            "0     1.0\n",
            "1     3.0\n",
            "2     5.0\n",
            "3     6.0\n",
            "4     NaN\n",
            "5    44.0\n",
            "6     9.0\n",
            "dtype: float64\n"
          ]
        }
      ]
    },
    {
      "cell_type": "code",
      "metadata": {
        "colab": {
          "base_uri": "https://localhost:8080/"
        },
        "id": "rOO_8uRtQfGt",
        "outputId": "db0e62ba-3bc3-449a-8390-6c13f7bfd417"
      },
      "source": [
        "dates = pd.date_range('20210920',periods=10)\n",
        "print(dates)"
      ],
      "execution_count": 5,
      "outputs": [
        {
          "output_type": "stream",
          "name": "stdout",
          "text": [
            "DatetimeIndex(['2021-09-20', '2021-09-21', '2021-09-22', '2021-09-23',\n",
            "               '2021-09-24', '2021-09-25', '2021-09-26', '2021-09-27',\n",
            "               '2021-09-28', '2021-09-29'],\n",
            "              dtype='datetime64[ns]', freq='D')\n"
          ]
        }
      ]
    },
    {
      "cell_type": "code",
      "metadata": {
        "colab": {
          "base_uri": "https://localhost:8080/"
        },
        "id": "OPtNL1KxQ6sn",
        "outputId": "c2a80793-acd4-4ebf-f4c8-bec67a23818c"
      },
      "source": [
        "df = pd.DataFrame(np.random.randn(10,4),index=dates,columns=['a','b','c','d'])\n",
        "print(df)"
      ],
      "execution_count": 6,
      "outputs": [
        {
          "output_type": "stream",
          "name": "stdout",
          "text": [
            "                   a         b         c         d\n",
            "2021-09-20  0.033120  0.626952 -0.038117  0.353501\n",
            "2021-09-21 -0.187477  0.567113 -0.461927  0.003528\n",
            "2021-09-22  0.375317 -1.260700 -0.063682  1.645962\n",
            "2021-09-23 -0.528948 -0.277129  0.815117 -0.294110\n",
            "2021-09-24 -0.298921  0.059575  0.624286  1.290562\n",
            "2021-09-25  0.490400  0.004911 -0.700023  0.126150\n",
            "2021-09-26 -0.945776 -0.466812 -0.041039  2.762778\n",
            "2021-09-27  1.221643  1.534911 -0.344511  0.434051\n",
            "2021-09-28 -0.718280  0.336464  0.770560 -0.444745\n",
            "2021-09-29 -1.046496 -0.220831  0.193143 -1.167556\n"
          ]
        }
      ]
    },
    {
      "cell_type": "code",
      "metadata": {
        "colab": {
          "base_uri": "https://localhost:8080/"
        },
        "id": "LAVvv8emSnMV",
        "outputId": "1ea32f63-0c8a-484d-a031-2cf37c16966e"
      },
      "source": [
        "df1 = pd.DataFrame(np.arange(12).reshape((3,4)))\n",
        "print(df1)"
      ],
      "execution_count": 7,
      "outputs": [
        {
          "output_type": "stream",
          "name": "stdout",
          "text": [
            "   0  1   2   3\n",
            "0  0  1   2   3\n",
            "1  4  5   6   7\n",
            "2  8  9  10  11\n"
          ]
        }
      ]
    },
    {
      "cell_type": "code",
      "metadata": {
        "colab": {
          "base_uri": "https://localhost:8080/",
          "height": 173
        },
        "id": "J9aJn1zzTFTm",
        "outputId": "ad7e86a8-0b95-4c53-dee2-35b7d1950e78"
      },
      "source": [
        "df2 = pd.DataFrame({'A':1., \n",
        "          'B':pd.Timestamp('20210102'), \n",
        "          'C':pd.Series(1, index=list(range(4)), dtype='float32'),\n",
        "          'D':np.array([3]*4), \n",
        "          'E':pd.Categorical(['test','train','test','train']),\n",
        "          'F':'foo'})\n",
        "df2"
      ],
      "execution_count": 8,
      "outputs": [
        {
          "output_type": "execute_result",
          "data": {
            "text/html": [
              "<div>\n",
              "<style scoped>\n",
              "    .dataframe tbody tr th:only-of-type {\n",
              "        vertical-align: middle;\n",
              "    }\n",
              "\n",
              "    .dataframe tbody tr th {\n",
              "        vertical-align: top;\n",
              "    }\n",
              "\n",
              "    .dataframe thead th {\n",
              "        text-align: right;\n",
              "    }\n",
              "</style>\n",
              "<table border=\"1\" class=\"dataframe\">\n",
              "  <thead>\n",
              "    <tr style=\"text-align: right;\">\n",
              "      <th></th>\n",
              "      <th>A</th>\n",
              "      <th>B</th>\n",
              "      <th>C</th>\n",
              "      <th>D</th>\n",
              "      <th>E</th>\n",
              "      <th>F</th>\n",
              "    </tr>\n",
              "  </thead>\n",
              "  <tbody>\n",
              "    <tr>\n",
              "      <th>0</th>\n",
              "      <td>1.0</td>\n",
              "      <td>2021-01-02</td>\n",
              "      <td>1.0</td>\n",
              "      <td>3</td>\n",
              "      <td>test</td>\n",
              "      <td>foo</td>\n",
              "    </tr>\n",
              "    <tr>\n",
              "      <th>1</th>\n",
              "      <td>1.0</td>\n",
              "      <td>2021-01-02</td>\n",
              "      <td>1.0</td>\n",
              "      <td>3</td>\n",
              "      <td>train</td>\n",
              "      <td>foo</td>\n",
              "    </tr>\n",
              "    <tr>\n",
              "      <th>2</th>\n",
              "      <td>1.0</td>\n",
              "      <td>2021-01-02</td>\n",
              "      <td>1.0</td>\n",
              "      <td>3</td>\n",
              "      <td>test</td>\n",
              "      <td>foo</td>\n",
              "    </tr>\n",
              "    <tr>\n",
              "      <th>3</th>\n",
              "      <td>1.0</td>\n",
              "      <td>2021-01-02</td>\n",
              "      <td>1.0</td>\n",
              "      <td>3</td>\n",
              "      <td>train</td>\n",
              "      <td>foo</td>\n",
              "    </tr>\n",
              "  </tbody>\n",
              "</table>\n",
              "</div>"
            ],
            "text/plain": [
              "     A          B    C  D      E    F\n",
              "0  1.0 2021-01-02  1.0  3   test  foo\n",
              "1  1.0 2021-01-02  1.0  3  train  foo\n",
              "2  1.0 2021-01-02  1.0  3   test  foo\n",
              "3  1.0 2021-01-02  1.0  3  train  foo"
            ]
          },
          "metadata": {},
          "execution_count": 8
        }
      ]
    },
    {
      "cell_type": "code",
      "metadata": {
        "colab": {
          "base_uri": "https://localhost:8080/"
        },
        "id": "kbMXxIs9VwYW",
        "outputId": "f91fc93b-5d97-4554-c9a9-e4faabcadf04"
      },
      "source": [
        "df2.dtypes"
      ],
      "execution_count": 9,
      "outputs": [
        {
          "output_type": "execute_result",
          "data": {
            "text/plain": [
              "A           float64\n",
              "B    datetime64[ns]\n",
              "C           float32\n",
              "D             int64\n",
              "E          category\n",
              "F            object\n",
              "dtype: object"
            ]
          },
          "metadata": {},
          "execution_count": 9
        }
      ]
    },
    {
      "cell_type": "code",
      "metadata": {
        "colab": {
          "base_uri": "https://localhost:8080/"
        },
        "id": "Z80whodEXUbB",
        "outputId": "b8d1aa74-2d32-44b2-fc1c-10d74c7caa31"
      },
      "source": [
        "df2.index"
      ],
      "execution_count": 10,
      "outputs": [
        {
          "output_type": "execute_result",
          "data": {
            "text/plain": [
              "Int64Index([0, 1, 2, 3], dtype='int64')"
            ]
          },
          "metadata": {},
          "execution_count": 10
        }
      ]
    },
    {
      "cell_type": "code",
      "metadata": {
        "colab": {
          "base_uri": "https://localhost:8080/"
        },
        "id": "UMiuxmE3XXzm",
        "outputId": "1f9f6962-607b-4545-c935-e4e764829ae5"
      },
      "source": [
        "df2.columns"
      ],
      "execution_count": 11,
      "outputs": [
        {
          "output_type": "execute_result",
          "data": {
            "text/plain": [
              "Index(['A', 'B', 'C', 'D', 'E', 'F'], dtype='object')"
            ]
          },
          "metadata": {},
          "execution_count": 11
        }
      ]
    },
    {
      "cell_type": "code",
      "metadata": {
        "colab": {
          "base_uri": "https://localhost:8080/"
        },
        "id": "gEh5Bu9GXkga",
        "outputId": "db472d00-bad8-4c16-dcea-1cacf3a62fb4"
      },
      "source": [
        "df2.values"
      ],
      "execution_count": 12,
      "outputs": [
        {
          "output_type": "execute_result",
          "data": {
            "text/plain": [
              "array([[1.0, Timestamp('2021-01-02 00:00:00'), 1.0, 3, 'test', 'foo'],\n",
              "       [1.0, Timestamp('2021-01-02 00:00:00'), 1.0, 3, 'train', 'foo'],\n",
              "       [1.0, Timestamp('2021-01-02 00:00:00'), 1.0, 3, 'test', 'foo'],\n",
              "       [1.0, Timestamp('2021-01-02 00:00:00'), 1.0, 3, 'train', 'foo']],\n",
              "      dtype=object)"
            ]
          },
          "metadata": {},
          "execution_count": 12
        }
      ]
    },
    {
      "cell_type": "code",
      "metadata": {
        "colab": {
          "base_uri": "https://localhost:8080/",
          "height": 297
        },
        "id": "u6_Qp9xpXqWe",
        "outputId": "3a2d529c-11db-4690-8d00-15c957a12f58"
      },
      "source": [
        "df2.describe()"
      ],
      "execution_count": 13,
      "outputs": [
        {
          "output_type": "execute_result",
          "data": {
            "text/html": [
              "<div>\n",
              "<style scoped>\n",
              "    .dataframe tbody tr th:only-of-type {\n",
              "        vertical-align: middle;\n",
              "    }\n",
              "\n",
              "    .dataframe tbody tr th {\n",
              "        vertical-align: top;\n",
              "    }\n",
              "\n",
              "    .dataframe thead th {\n",
              "        text-align: right;\n",
              "    }\n",
              "</style>\n",
              "<table border=\"1\" class=\"dataframe\">\n",
              "  <thead>\n",
              "    <tr style=\"text-align: right;\">\n",
              "      <th></th>\n",
              "      <th>A</th>\n",
              "      <th>C</th>\n",
              "      <th>D</th>\n",
              "    </tr>\n",
              "  </thead>\n",
              "  <tbody>\n",
              "    <tr>\n",
              "      <th>count</th>\n",
              "      <td>4.0</td>\n",
              "      <td>4.0</td>\n",
              "      <td>4.0</td>\n",
              "    </tr>\n",
              "    <tr>\n",
              "      <th>mean</th>\n",
              "      <td>1.0</td>\n",
              "      <td>1.0</td>\n",
              "      <td>3.0</td>\n",
              "    </tr>\n",
              "    <tr>\n",
              "      <th>std</th>\n",
              "      <td>0.0</td>\n",
              "      <td>0.0</td>\n",
              "      <td>0.0</td>\n",
              "    </tr>\n",
              "    <tr>\n",
              "      <th>min</th>\n",
              "      <td>1.0</td>\n",
              "      <td>1.0</td>\n",
              "      <td>3.0</td>\n",
              "    </tr>\n",
              "    <tr>\n",
              "      <th>25%</th>\n",
              "      <td>1.0</td>\n",
              "      <td>1.0</td>\n",
              "      <td>3.0</td>\n",
              "    </tr>\n",
              "    <tr>\n",
              "      <th>50%</th>\n",
              "      <td>1.0</td>\n",
              "      <td>1.0</td>\n",
              "      <td>3.0</td>\n",
              "    </tr>\n",
              "    <tr>\n",
              "      <th>75%</th>\n",
              "      <td>1.0</td>\n",
              "      <td>1.0</td>\n",
              "      <td>3.0</td>\n",
              "    </tr>\n",
              "    <tr>\n",
              "      <th>max</th>\n",
              "      <td>1.0</td>\n",
              "      <td>1.0</td>\n",
              "      <td>3.0</td>\n",
              "    </tr>\n",
              "  </tbody>\n",
              "</table>\n",
              "</div>"
            ],
            "text/plain": [
              "         A    C    D\n",
              "count  4.0  4.0  4.0\n",
              "mean   1.0  1.0  3.0\n",
              "std    0.0  0.0  0.0\n",
              "min    1.0  1.0  3.0\n",
              "25%    1.0  1.0  3.0\n",
              "50%    1.0  1.0  3.0\n",
              "75%    1.0  1.0  3.0\n",
              "max    1.0  1.0  3.0"
            ]
          },
          "metadata": {},
          "execution_count": 13
        }
      ]
    },
    {
      "cell_type": "code",
      "metadata": {
        "colab": {
          "base_uri": "https://localhost:8080/",
          "height": 173
        },
        "id": "VWPmY-RqXzxE",
        "outputId": "7ee68f65-1c0a-49f7-8b22-b2058037802e"
      },
      "source": [
        "df2.sort_index(axis=1,ascending=False) # sort backward"
      ],
      "execution_count": 14,
      "outputs": [
        {
          "output_type": "execute_result",
          "data": {
            "text/html": [
              "<div>\n",
              "<style scoped>\n",
              "    .dataframe tbody tr th:only-of-type {\n",
              "        vertical-align: middle;\n",
              "    }\n",
              "\n",
              "    .dataframe tbody tr th {\n",
              "        vertical-align: top;\n",
              "    }\n",
              "\n",
              "    .dataframe thead th {\n",
              "        text-align: right;\n",
              "    }\n",
              "</style>\n",
              "<table border=\"1\" class=\"dataframe\">\n",
              "  <thead>\n",
              "    <tr style=\"text-align: right;\">\n",
              "      <th></th>\n",
              "      <th>F</th>\n",
              "      <th>E</th>\n",
              "      <th>D</th>\n",
              "      <th>C</th>\n",
              "      <th>B</th>\n",
              "      <th>A</th>\n",
              "    </tr>\n",
              "  </thead>\n",
              "  <tbody>\n",
              "    <tr>\n",
              "      <th>0</th>\n",
              "      <td>foo</td>\n",
              "      <td>test</td>\n",
              "      <td>3</td>\n",
              "      <td>1.0</td>\n",
              "      <td>2021-01-02</td>\n",
              "      <td>1.0</td>\n",
              "    </tr>\n",
              "    <tr>\n",
              "      <th>1</th>\n",
              "      <td>foo</td>\n",
              "      <td>train</td>\n",
              "      <td>3</td>\n",
              "      <td>1.0</td>\n",
              "      <td>2021-01-02</td>\n",
              "      <td>1.0</td>\n",
              "    </tr>\n",
              "    <tr>\n",
              "      <th>2</th>\n",
              "      <td>foo</td>\n",
              "      <td>test</td>\n",
              "      <td>3</td>\n",
              "      <td>1.0</td>\n",
              "      <td>2021-01-02</td>\n",
              "      <td>1.0</td>\n",
              "    </tr>\n",
              "    <tr>\n",
              "      <th>3</th>\n",
              "      <td>foo</td>\n",
              "      <td>train</td>\n",
              "      <td>3</td>\n",
              "      <td>1.0</td>\n",
              "      <td>2021-01-02</td>\n",
              "      <td>1.0</td>\n",
              "    </tr>\n",
              "  </tbody>\n",
              "</table>\n",
              "</div>"
            ],
            "text/plain": [
              "     F      E  D    C          B    A\n",
              "0  foo   test  3  1.0 2021-01-02  1.0\n",
              "1  foo  train  3  1.0 2021-01-02  1.0\n",
              "2  foo   test  3  1.0 2021-01-02  1.0\n",
              "3  foo  train  3  1.0 2021-01-02  1.0"
            ]
          },
          "metadata": {},
          "execution_count": 14
        }
      ]
    },
    {
      "cell_type": "code",
      "metadata": {
        "colab": {
          "base_uri": "https://localhost:8080/",
          "height": 173
        },
        "id": "DpxBQLU3YSI2",
        "outputId": "78df4f1b-5907-4833-898c-7f86e6632245"
      },
      "source": [
        "df2.sort_index(axis=0,ascending=False)"
      ],
      "execution_count": 15,
      "outputs": [
        {
          "output_type": "execute_result",
          "data": {
            "text/html": [
              "<div>\n",
              "<style scoped>\n",
              "    .dataframe tbody tr th:only-of-type {\n",
              "        vertical-align: middle;\n",
              "    }\n",
              "\n",
              "    .dataframe tbody tr th {\n",
              "        vertical-align: top;\n",
              "    }\n",
              "\n",
              "    .dataframe thead th {\n",
              "        text-align: right;\n",
              "    }\n",
              "</style>\n",
              "<table border=\"1\" class=\"dataframe\">\n",
              "  <thead>\n",
              "    <tr style=\"text-align: right;\">\n",
              "      <th></th>\n",
              "      <th>A</th>\n",
              "      <th>B</th>\n",
              "      <th>C</th>\n",
              "      <th>D</th>\n",
              "      <th>E</th>\n",
              "      <th>F</th>\n",
              "    </tr>\n",
              "  </thead>\n",
              "  <tbody>\n",
              "    <tr>\n",
              "      <th>3</th>\n",
              "      <td>1.0</td>\n",
              "      <td>2021-01-02</td>\n",
              "      <td>1.0</td>\n",
              "      <td>3</td>\n",
              "      <td>train</td>\n",
              "      <td>foo</td>\n",
              "    </tr>\n",
              "    <tr>\n",
              "      <th>2</th>\n",
              "      <td>1.0</td>\n",
              "      <td>2021-01-02</td>\n",
              "      <td>1.0</td>\n",
              "      <td>3</td>\n",
              "      <td>test</td>\n",
              "      <td>foo</td>\n",
              "    </tr>\n",
              "    <tr>\n",
              "      <th>1</th>\n",
              "      <td>1.0</td>\n",
              "      <td>2021-01-02</td>\n",
              "      <td>1.0</td>\n",
              "      <td>3</td>\n",
              "      <td>train</td>\n",
              "      <td>foo</td>\n",
              "    </tr>\n",
              "    <tr>\n",
              "      <th>0</th>\n",
              "      <td>1.0</td>\n",
              "      <td>2021-01-02</td>\n",
              "      <td>1.0</td>\n",
              "      <td>3</td>\n",
              "      <td>test</td>\n",
              "      <td>foo</td>\n",
              "    </tr>\n",
              "  </tbody>\n",
              "</table>\n",
              "</div>"
            ],
            "text/plain": [
              "     A          B    C  D      E    F\n",
              "3  1.0 2021-01-02  1.0  3  train  foo\n",
              "2  1.0 2021-01-02  1.0  3   test  foo\n",
              "1  1.0 2021-01-02  1.0  3  train  foo\n",
              "0  1.0 2021-01-02  1.0  3   test  foo"
            ]
          },
          "metadata": {},
          "execution_count": 15
        }
      ]
    },
    {
      "cell_type": "code",
      "metadata": {
        "colab": {
          "base_uri": "https://localhost:8080/",
          "height": 173
        },
        "id": "blEXZ71fYUST",
        "outputId": "411fd411-dd95-4f97-a546-821d5d823631"
      },
      "source": [
        "df2.sort_values(by='E') # sort by one value"
      ],
      "execution_count": 16,
      "outputs": [
        {
          "output_type": "execute_result",
          "data": {
            "text/html": [
              "<div>\n",
              "<style scoped>\n",
              "    .dataframe tbody tr th:only-of-type {\n",
              "        vertical-align: middle;\n",
              "    }\n",
              "\n",
              "    .dataframe tbody tr th {\n",
              "        vertical-align: top;\n",
              "    }\n",
              "\n",
              "    .dataframe thead th {\n",
              "        text-align: right;\n",
              "    }\n",
              "</style>\n",
              "<table border=\"1\" class=\"dataframe\">\n",
              "  <thead>\n",
              "    <tr style=\"text-align: right;\">\n",
              "      <th></th>\n",
              "      <th>A</th>\n",
              "      <th>B</th>\n",
              "      <th>C</th>\n",
              "      <th>D</th>\n",
              "      <th>E</th>\n",
              "      <th>F</th>\n",
              "    </tr>\n",
              "  </thead>\n",
              "  <tbody>\n",
              "    <tr>\n",
              "      <th>0</th>\n",
              "      <td>1.0</td>\n",
              "      <td>2021-01-02</td>\n",
              "      <td>1.0</td>\n",
              "      <td>3</td>\n",
              "      <td>test</td>\n",
              "      <td>foo</td>\n",
              "    </tr>\n",
              "    <tr>\n",
              "      <th>2</th>\n",
              "      <td>1.0</td>\n",
              "      <td>2021-01-02</td>\n",
              "      <td>1.0</td>\n",
              "      <td>3</td>\n",
              "      <td>test</td>\n",
              "      <td>foo</td>\n",
              "    </tr>\n",
              "    <tr>\n",
              "      <th>1</th>\n",
              "      <td>1.0</td>\n",
              "      <td>2021-01-02</td>\n",
              "      <td>1.0</td>\n",
              "      <td>3</td>\n",
              "      <td>train</td>\n",
              "      <td>foo</td>\n",
              "    </tr>\n",
              "    <tr>\n",
              "      <th>3</th>\n",
              "      <td>1.0</td>\n",
              "      <td>2021-01-02</td>\n",
              "      <td>1.0</td>\n",
              "      <td>3</td>\n",
              "      <td>train</td>\n",
              "      <td>foo</td>\n",
              "    </tr>\n",
              "  </tbody>\n",
              "</table>\n",
              "</div>"
            ],
            "text/plain": [
              "     A          B    C  D      E    F\n",
              "0  1.0 2021-01-02  1.0  3   test  foo\n",
              "2  1.0 2021-01-02  1.0  3   test  foo\n",
              "1  1.0 2021-01-02  1.0  3  train  foo\n",
              "3  1.0 2021-01-02  1.0  3  train  foo"
            ]
          },
          "metadata": {},
          "execution_count": 16
        }
      ]
    },
    {
      "cell_type": "code",
      "metadata": {
        "id": "igNanL69ZWiK"
      },
      "source": [
        "dates = pd.date_range('20210101',periods=6)\n",
        "df3 = pd.DataFrame(np.arange(24).reshape((6,4)),index=dates,columns=['A','B','C','D'])"
      ],
      "execution_count": 65,
      "outputs": []
    },
    {
      "cell_type": "code",
      "metadata": {
        "colab": {
          "base_uri": "https://localhost:8080/"
        },
        "id": "EP4CfPL1Zovl",
        "outputId": "90d30026-a559-4ab0-eeee-017ada3f7dfa"
      },
      "source": [
        "print(df3)"
      ],
      "execution_count": 66,
      "outputs": [
        {
          "output_type": "stream",
          "name": "stdout",
          "text": [
            "             A   B   C   D\n",
            "2021-01-01   0   1   2   3\n",
            "2021-01-02   4   5   6   7\n",
            "2021-01-03   8   9  10  11\n",
            "2021-01-04  12  13  14  15\n",
            "2021-01-05  16  17  18  19\n",
            "2021-01-06  20  21  22  23\n"
          ]
        }
      ]
    },
    {
      "cell_type": "code",
      "metadata": {
        "colab": {
          "base_uri": "https://localhost:8080/"
        },
        "id": "-AC0NvACaXmF",
        "outputId": "39115516-2f55-4616-e2be-b1ad24e1d550"
      },
      "source": [
        "print(df3['A'])\n",
        "#print(df3.A) "
      ],
      "execution_count": 67,
      "outputs": [
        {
          "output_type": "stream",
          "name": "stdout",
          "text": [
            "2021-01-01     0\n",
            "2021-01-02     4\n",
            "2021-01-03     8\n",
            "2021-01-04    12\n",
            "2021-01-05    16\n",
            "2021-01-06    20\n",
            "Freq: D, Name: A, dtype: int64\n"
          ]
        }
      ]
    },
    {
      "cell_type": "code",
      "metadata": {
        "colab": {
          "base_uri": "https://localhost:8080/"
        },
        "id": "mPzbJnqLaUwr",
        "outputId": "8a68666c-0abe-48bc-85ee-fc5fd1bc71f2"
      },
      "source": [
        "print(df3[0:3])\n",
        "#print(df3['20210101':'20210103'])"
      ],
      "execution_count": 68,
      "outputs": [
        {
          "output_type": "stream",
          "name": "stdout",
          "text": [
            "            A  B   C   D\n",
            "2021-01-01  0  1   2   3\n",
            "2021-01-02  4  5   6   7\n",
            "2021-01-03  8  9  10  11\n"
          ]
        }
      ]
    },
    {
      "cell_type": "code",
      "metadata": {
        "colab": {
          "base_uri": "https://localhost:8080/"
        },
        "id": "_5JrDL9ga8R6",
        "outputId": "060b7027-953b-432b-8bcf-fd568ab99a88"
      },
      "source": [
        "print(df3.loc['20210102'])  # select by label: loc"
      ],
      "execution_count": 69,
      "outputs": [
        {
          "output_type": "stream",
          "name": "stdout",
          "text": [
            "A    4\n",
            "B    5\n",
            "C    6\n",
            "D    7\n",
            "Name: 2021-01-02 00:00:00, dtype: int64\n"
          ]
        }
      ]
    },
    {
      "cell_type": "code",
      "metadata": {
        "colab": {
          "base_uri": "https://localhost:8080/"
        },
        "id": "R8SWvwURa_Aj",
        "outputId": "729ed3f0-ff83-4f2e-e7df-cbdb7fbe1a99"
      },
      "source": [
        "print(df3.loc[:,['A','B']])  # select by label: loc"
      ],
      "execution_count": 70,
      "outputs": [
        {
          "output_type": "stream",
          "name": "stdout",
          "text": [
            "             A   B\n",
            "2021-01-01   0   1\n",
            "2021-01-02   4   5\n",
            "2021-01-03   8   9\n",
            "2021-01-04  12  13\n",
            "2021-01-05  16  17\n",
            "2021-01-06  20  21\n"
          ]
        }
      ]
    },
    {
      "cell_type": "code",
      "metadata": {
        "colab": {
          "base_uri": "https://localhost:8080/"
        },
        "id": "Xx62ifhJH-T7",
        "outputId": "212b8802-b783-49e2-ad42-ef49bf989de5"
      },
      "source": [
        "print(df3.iloc[3])  # select by position: iloc"
      ],
      "execution_count": 71,
      "outputs": [
        {
          "output_type": "stream",
          "name": "stdout",
          "text": [
            "A    12\n",
            "B    13\n",
            "C    14\n",
            "D    15\n",
            "Name: 2021-01-04 00:00:00, dtype: int64\n"
          ]
        }
      ]
    },
    {
      "cell_type": "code",
      "metadata": {
        "colab": {
          "base_uri": "https://localhost:8080/"
        },
        "id": "_20rSufbIvfI",
        "outputId": "b3e3f5b9-85d2-4e04-e7dd-54976bf863db"
      },
      "source": [
        "print(df3.iloc[0:1,1:3])  # select by position: iloc\n",
        "              # the first row, and the second and third column"
      ],
      "execution_count": 72,
      "outputs": [
        {
          "output_type": "stream",
          "name": "stdout",
          "text": [
            "            B  C\n",
            "2021-01-01  1  2\n"
          ]
        }
      ]
    },
    {
      "cell_type": "code",
      "metadata": {
        "colab": {
          "base_uri": "https://localhost:8080/"
        },
        "id": "OGLr7HJCJCxY",
        "outputId": "c4c3adb5-9da4-4719-c0b8-ab31f0e7ddd0"
      },
      "source": [
        "print(df3)\n",
        "print(df3[df3.A>8])  # select by Boolean index"
      ],
      "execution_count": 73,
      "outputs": [
        {
          "output_type": "stream",
          "name": "stdout",
          "text": [
            "             A   B   C   D\n",
            "2021-01-01   0   1   2   3\n",
            "2021-01-02   4   5   6   7\n",
            "2021-01-03   8   9  10  11\n",
            "2021-01-04  12  13  14  15\n",
            "2021-01-05  16  17  18  19\n",
            "2021-01-06  20  21  22  23\n",
            "             A   B   C   D\n",
            "2021-01-04  12  13  14  15\n",
            "2021-01-05  16  17  18  19\n",
            "2021-01-06  20  21  22  23\n"
          ]
        }
      ]
    },
    {
      "cell_type": "code",
      "metadata": {
        "colab": {
          "base_uri": "https://localhost:8080/"
        },
        "id": "b_U2dYmNKdKE",
        "outputId": "6a51da59-1dc3-46d0-bcea-40018078469b"
      },
      "source": [
        "df3.iloc[2,2] = 1234\n",
        "print(df3)"
      ],
      "execution_count": 74,
      "outputs": [
        {
          "output_type": "stream",
          "name": "stdout",
          "text": [
            "             A   B     C   D\n",
            "2021-01-01   0   1     2   3\n",
            "2021-01-02   4   5     6   7\n",
            "2021-01-03   8   9  1234  11\n",
            "2021-01-04  12  13    14  15\n",
            "2021-01-05  16  17    18  19\n",
            "2021-01-06  20  21    22  23\n"
          ]
        }
      ]
    },
    {
      "cell_type": "code",
      "metadata": {
        "colab": {
          "base_uri": "https://localhost:8080/"
        },
        "id": "BWdoKDzVNBDn",
        "outputId": "9a3a5ea9-9245-4f22-9442-fd324f9bd874"
      },
      "source": [
        "df3.loc['20210102','B'] = 3333\n",
        "print(df3)"
      ],
      "execution_count": 75,
      "outputs": [
        {
          "output_type": "stream",
          "name": "stdout",
          "text": [
            "             A     B     C   D\n",
            "2021-01-01   0     1     2   3\n",
            "2021-01-02   4  3333     6   7\n",
            "2021-01-03   8     9  1234  11\n",
            "2021-01-04  12    13    14  15\n",
            "2021-01-05  16    17    18  19\n",
            "2021-01-06  20    21    22  23\n"
          ]
        }
      ]
    },
    {
      "cell_type": "code",
      "metadata": {
        "colab": {
          "base_uri": "https://localhost:8080/"
        },
        "id": "cRoJvUNuNIvF",
        "outputId": "4c64e641-f1e8-41e2-f0d0-8fc7b0e8aa25"
      },
      "source": [
        "df3.B[df3.A>4] = 0  # Change the position in column B corresponding to A value greater than 4 in column A to 0\n",
        "print(df3)"
      ],
      "execution_count": 76,
      "outputs": [
        {
          "output_type": "stream",
          "name": "stdout",
          "text": [
            "             A     B     C   D\n",
            "2021-01-01   0     1     2   3\n",
            "2021-01-02   4  3333     6   7\n",
            "2021-01-03   8     0  1234  11\n",
            "2021-01-04  12     0    14  15\n",
            "2021-01-05  16     0    18  19\n",
            "2021-01-06  20     0    22  23\n"
          ]
        }
      ]
    },
    {
      "cell_type": "code",
      "metadata": {
        "colab": {
          "base_uri": "https://localhost:8080/"
        },
        "id": "iSiSoR70NmOo",
        "outputId": "a5fd0c7b-58f5-47de-ab46-830add0dcd52"
      },
      "source": [
        "df3['F'] = np.nan\n",
        "print(df3)"
      ],
      "execution_count": 77,
      "outputs": [
        {
          "output_type": "stream",
          "name": "stdout",
          "text": [
            "             A     B     C   D   F\n",
            "2021-01-01   0     1     2   3 NaN\n",
            "2021-01-02   4  3333     6   7 NaN\n",
            "2021-01-03   8     0  1234  11 NaN\n",
            "2021-01-04  12     0    14  15 NaN\n",
            "2021-01-05  16     0    18  19 NaN\n",
            "2021-01-06  20     0    22  23 NaN\n"
          ]
        }
      ]
    },
    {
      "cell_type": "code",
      "metadata": {
        "colab": {
          "base_uri": "https://localhost:8080/"
        },
        "id": "ZCTV6C9-QVCf",
        "outputId": "2f617ec7-a029-450e-a2e1-8ec0baa207c7"
      },
      "source": [
        "df3['E'] = pd.Series([1,2,3,4,5,6], index = pd.date_range('20210101',periods=6))\n",
        "print(df3)"
      ],
      "execution_count": 79,
      "outputs": [
        {
          "output_type": "stream",
          "name": "stdout",
          "text": [
            "             A     B     C   D   F  E\n",
            "2021-01-01   0     1     2   3 NaN  1\n",
            "2021-01-02   4  3333     6   7 NaN  2\n",
            "2021-01-03   8     0  1234  11 NaN  3\n",
            "2021-01-04  12     0    14  15 NaN  4\n",
            "2021-01-05  16     0    18  19 NaN  5\n",
            "2021-01-06  20     0    22  23 NaN  6\n"
          ]
        }
      ]
    },
    {
      "cell_type": "code",
      "metadata": {
        "id": "qR_vlqzOQxjY"
      },
      "source": [
        ""
      ],
      "execution_count": null,
      "outputs": []
    }
  ]
}
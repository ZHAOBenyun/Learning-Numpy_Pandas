{
  "nbformat": 4,
  "nbformat_minor": 0,
  "metadata": {
    "colab": {
      "name": "pd_nan",
      "provenance": [],
      "authorship_tag": "ABX9TyOIKsdUnXpFWjC41d4zjO20",
      "include_colab_link": true
    },
    "kernelspec": {
      "name": "python3",
      "display_name": "Python 3"
    },
    "language_info": {
      "name": "python"
    }
  },
  "cells": [
    {
      "cell_type": "markdown",
      "metadata": {
        "id": "view-in-github",
        "colab_type": "text"
      },
      "source": [
        "<a href=\"https://colab.research.google.com/github/ZHAOBenyun/Learning-Numpy_Pandas/blob/main/pd_nan.ipynb\" target=\"_parent\"><img src=\"https://colab.research.google.com/assets/colab-badge.svg\" alt=\"Open In Colab\"/></a>"
      ]
    },
    {
      "cell_type": "code",
      "metadata": {
        "id": "wzsDpYxYRf58"
      },
      "source": [
        "import numpy as np\n",
        "import pandas as pd"
      ],
      "execution_count": 1,
      "outputs": []
    },
    {
      "cell_type": "code",
      "metadata": {
        "id": "m_vxko2aRiiZ"
      },
      "source": [
        "dates = pd.date_range('20210101',periods=6)\n",
        "df = pd.DataFrame(np.arange(24).reshape((6,4)),index=dates,columns=['A','B','C','D'])"
      ],
      "execution_count": 2,
      "outputs": []
    },
    {
      "cell_type": "code",
      "metadata": {
        "id": "Iltem2JhRjnj"
      },
      "source": [
        "df.iloc[0,1] = np.nan\n",
        "df.iloc[1,2] = np.nan"
      ],
      "execution_count": 3,
      "outputs": []
    },
    {
      "cell_type": "code",
      "metadata": {
        "colab": {
          "base_uri": "https://localhost:8080/"
        },
        "id": "q52JwYvMRvgV",
        "outputId": "3de78ee5-36b7-46a1-f4dc-33e78fce89e0"
      },
      "source": [
        "print(df.dropna(axis=0,how='any'))  # how={'any'} If the row has one none, this row will be droped"
      ],
      "execution_count": 8,
      "outputs": [
        {
          "output_type": "stream",
          "name": "stdout",
          "text": [
            "             A     B     C   D\n",
            "2021-01-03   8   9.0  10.0  11\n",
            "2021-01-04  12  13.0  14.0  15\n",
            "2021-01-05  16  17.0  18.0  19\n",
            "2021-01-06  20  21.0  22.0  23\n"
          ]
        }
      ]
    },
    {
      "cell_type": "code",
      "metadata": {
        "colab": {
          "base_uri": "https://localhost:8080/"
        },
        "id": "eGD3OJf2R1aS",
        "outputId": "935723e0-59e9-46fb-84f7-a3283300c453"
      },
      "source": [
        "print(df.dropna(axis=0,how='all'))  # how={'all'} If the whole row is none, this row will be droped"
      ],
      "execution_count": 9,
      "outputs": [
        {
          "output_type": "stream",
          "name": "stdout",
          "text": [
            "             A     B     C   D\n",
            "2021-01-01   0   NaN   2.0   3\n",
            "2021-01-02   4   5.0   NaN   7\n",
            "2021-01-03   8   9.0  10.0  11\n",
            "2021-01-04  12  13.0  14.0  15\n",
            "2021-01-05  16  17.0  18.0  19\n",
            "2021-01-06  20  21.0  22.0  23\n"
          ]
        }
      ]
    },
    {
      "cell_type": "code",
      "metadata": {
        "colab": {
          "base_uri": "https://localhost:8080/"
        },
        "id": "-tTQhsCaTcW6",
        "outputId": "4ac7e8cc-c7a3-414d-c17f-747421167177"
      },
      "source": [
        "print(df.fillna(value=1000))  # fill the none with value"
      ],
      "execution_count": 10,
      "outputs": [
        {
          "output_type": "stream",
          "name": "stdout",
          "text": [
            "             A       B       C   D\n",
            "2021-01-01   0  1000.0     2.0   3\n",
            "2021-01-02   4     5.0  1000.0   7\n",
            "2021-01-03   8     9.0    10.0  11\n",
            "2021-01-04  12    13.0    14.0  15\n",
            "2021-01-05  16    17.0    18.0  19\n",
            "2021-01-06  20    21.0    22.0  23\n"
          ]
        }
      ]
    },
    {
      "cell_type": "code",
      "metadata": {
        "colab": {
          "base_uri": "https://localhost:8080/"
        },
        "id": "CINtNFZUT8aw",
        "outputId": "0dfe6049-a862-4080-ceb4-af58c0255521"
      },
      "source": [
        "print(df.isnull())  # determine if there is any none in the dictionary"
      ],
      "execution_count": 11,
      "outputs": [
        {
          "output_type": "stream",
          "name": "stdout",
          "text": [
            "                A      B      C      D\n",
            "2021-01-01  False   True  False  False\n",
            "2021-01-02  False  False   True  False\n",
            "2021-01-03  False  False  False  False\n",
            "2021-01-04  False  False  False  False\n",
            "2021-01-05  False  False  False  False\n",
            "2021-01-06  False  False  False  False\n"
          ]
        }
      ]
    },
    {
      "cell_type": "code",
      "metadata": {
        "colab": {
          "base_uri": "https://localhost:8080/"
        },
        "id": "EOXkHNswUDAj",
        "outputId": "776e577e-fca1-4153-e8c6-54dd586fff23"
      },
      "source": [
        "print(np.any(df.isnull()) == True)  # if the dictionary is too big, this can help to determine fast"
      ],
      "execution_count": 12,
      "outputs": [
        {
          "output_type": "stream",
          "name": "stdout",
          "text": [
            "True\n"
          ]
        }
      ]
    }
  ]
}